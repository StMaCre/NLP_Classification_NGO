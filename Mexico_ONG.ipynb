{
  "nbformat": 4,
  "nbformat_minor": 0,
  "metadata": {
    "colab": {
      "provenance": [],
      "collapsed_sections": [
        "ndSHzz8PIdOw"
      ]
    },
    "kernelspec": {
      "name": "python3",
      "display_name": "Python 3"
    },
    "language_info": {
      "name": "python"
    }
  },
  "cells": [
    {
      "cell_type": "code",
      "source": [
        "!pip install classy-classification"
      ],
      "metadata": {
        "id": "vfp7SyVbqKTz"
      },
      "execution_count": null,
      "outputs": []
    },
    {
      "cell_type": "code",
      "source": [
        "!python -m spacy download es_core_news_lg"
      ],
      "metadata": {
        "id": "yHptVEi2qvqd"
      },
      "execution_count": null,
      "outputs": []
    },
    {
      "cell_type": "code",
      "execution_count": null,
      "metadata": {
        "id": "O9KvQK-2MbxW"
      },
      "outputs": [],
      "source": [
        "import pandas as pd\n",
        "import numpy as np \n",
        "from sklearn.cluster import AgglomerativeClustering\n",
        "from scipy.cluster.hierarchy import dendrogram, linkage\n",
        "from sklearn.manifold import TSNE\n",
        "from sklearn.metrics import silhouette_score\n",
        "from sklearn.metrics import pairwise_distances_argmin\n",
        "import matplotlib.pyplot as plt\n",
        "import spacy\n",
        "import classy_classification\n",
        "from nltk.stem.snowball import SnowballStemmer\n",
        "from spacy.lang.es.stop_words import STOP_WORDS as es_stop\n",
        "import re\n",
        "import seaborn as sns"
      ]
    },
    {
      "cell_type": "code",
      "source": [
        "# Load the data \n",
        "samples =  pd.read_csv('samples_correct V3.csv')\n",
        "mexico = pd.read_csv('mexico V2.csv')"
      ],
      "metadata": {
        "id": "veo1VsY0M2Et"
      },
      "execution_count": null,
      "outputs": []
    },
    {
      "cell_type": "code",
      "source": [
        "samples.head()"
      ],
      "metadata": {
        "id": "Vpk-y0nXUgaJ"
      },
      "execution_count": null,
      "outputs": []
    },
    {
      "cell_type": "code",
      "source": [
        "# Replace the text with int \n",
        "for col in samples.columns:\n",
        "    if col.startswith('ACTIVIDAD'):\n",
        "        samples[col] = samples[col].replace({'SI': 1, 'NO': 0})\n",
        "\n",
        "for col in mexico.columns:\n",
        "    if col.startswith('ACTIVIDAD'):\n",
        "        mexico[col] = mexico[col].replace({'SI': 1, 'NO': 0})"
      ],
      "metadata": {
        "id": "RDgnPKQ9TsSP"
      },
      "execution_count": null,
      "outputs": []
    },
    {
      "cell_type": "markdown",
      "source": [
        "# Clustering \n"
      ],
      "metadata": {
        "id": "ndSHzz8PIdOw"
      }
    },
    {
      "cell_type": "code",
      "source": [
        "samples_classification = samples.filter(like='ACTIVIDAD', axis=1)"
      ],
      "metadata": {
        "id": "1c9pTx4iTqQp"
      },
      "execution_count": null,
      "outputs": []
    },
    {
      "cell_type": "code",
      "source": [
        "mexico_classification = mexico.filter(like='ACTIVIDAD', axis=1)"
      ],
      "metadata": {
        "id": "e-0-W7Q-pVN7"
      },
      "execution_count": null,
      "outputs": []
    },
    {
      "cell_type": "code",
      "source": [
        "samples_classification"
      ],
      "metadata": {
        "id": "cuA40lKEW2oA"
      },
      "execution_count": null,
      "outputs": []
    },
    {
      "cell_type": "code",
      "source": [
        "# Elbow method for the numbers of clusters\n",
        "# Create an empty list to store WCSS values\n",
        "wcss = []\n",
        "\n",
        "# Fit the model to the data and calculate WCSS for 2 to n clusters\n",
        "for i in range(2, 9+1):\n",
        "    model = AgglomerativeClustering(n_clusters=i)\n",
        "    labels = model.fit_predict(samples_classification)\n",
        "    centers = [samples_classification[labels == j].mean(axis=0) for j in range(i)]\n",
        "    wcss_i = sum([np.linalg.norm(samples_classification[labels == j]-centers[j])**2 for j in range(i)])\n",
        "    wcss.append(wcss_i)\n",
        "    print(f\"WCSS for {i} clusters: {wcss}\")"
      ],
      "metadata": {
        "colab": {
          "base_uri": "https://localhost:8080/"
        },
        "id": "_8xTsEQa457u",
        "outputId": "045a3dd7-fe09-41e5-c9d5-2f227e561d80"
      },
      "execution_count": null,
      "outputs": [
        {
          "output_type": "stream",
          "name": "stdout",
          "text": [
            "WCSS for 2 clusters: [403.7173058013767]\n",
            "WCSS for 3 clusters: [403.7173058013767, 378.22864366985743]\n",
            "WCSS for 4 clusters: [403.7173058013767, 378.22864366985743, 355.3138775510204]\n",
            "WCSS for 5 clusters: [403.7173058013767, 378.22864366985743, 355.3138775510204, 334.6134167215273]\n",
            "WCSS for 6 clusters: [403.7173058013767, 378.22864366985743, 355.3138775510204, 334.6134167215273, 318.87332068311196]\n",
            "WCSS for 7 clusters: [403.7173058013767, 378.22864366985743, 355.3138775510204, 334.6134167215273, 318.87332068311196, 303.9676063973977]\n",
            "WCSS for 8 clusters: [403.7173058013767, 378.22864366985743, 355.3138775510204, 334.6134167215273, 318.87332068311196, 303.9676063973977, 291.41205084184213]\n",
            "WCSS for 9 clusters: [403.7173058013767, 378.22864366985743, 355.3138775510204, 334.6134167215273, 318.87332068311196, 303.9676063973977, 291.41205084184213, 280.05747567844344]\n"
          ]
        }
      ]
    },
    {
      "cell_type": "code",
      "source": [
        "# Plot the WCSS values against the number of clusters\n",
        "plt.plot(range(2, 9+1), wcss)\n",
        "plt.title('Elbow Method')\n",
        "plt.xlabel('Number of clusters')\n",
        "plt.ylabel('Within-cluster sum of squares (WCSS)')\n",
        "\n",
        "# Show the plot\n",
        "plt.show()"
      ],
      "metadata": {
        "colab": {
          "base_uri": "https://localhost:8080/",
          "height": 295
        },
        "id": "BI_X81Xt6-4W",
        "outputId": "e4343ffe-dd04-4977-e777-b719ee657a88"
      },
      "execution_count": null,
      "outputs": [
        {
          "output_type": "display_data",
          "data": {
            "text/plain": [
              "<Figure size 432x288 with 1 Axes>"
            ],
            "image/png": "[encoded data removed]"
          },
          "metadata": {
            "needs_background": "light"
          }
        }
      ]
    },
    {
      "cell_type": "code",
      "source": [
        "Z = linkage(samples_classification, method='ward')\n",
        "dendrogram(Z)\n",
        "plt.show()"
      ],
      "metadata": {
        "colab": {
          "base_uri": "https://localhost:8080/",
          "height": 264
        },
        "id": "JZMjFhuuX7mB",
        "outputId": "78af6529-d8d4-48ac-9eef-ffeec4795010"
      },
      "execution_count": null,
      "outputs": [
        {
          "output_type": "display_data",
          "data": {
            "text/plain": [
              "<Figure size 432x288 with 1 Axes>"
            ],
            "image/png": "[encoded data removed]"
          },
          "metadata": {
            "needs_background": "light"
          }
        }
      ]
    },
    {
      "cell_type": "code",
      "source": [
        "from sklearn.cluster import AgglomerativeClustering\n",
        "\n",
        "# Create an instance of the AgglomerativeClustering model\n",
        "agg_clustering = AgglomerativeClustering(n_clusters=4, linkage='ward')\n",
        "\n",
        "# Fit the model to the data\n",
        "agg_clustering.fit(mexico_classification)\n",
        "\n",
        "# Get the predicted labels\n",
        "labels = agg_clustering.labels_\n",
        "\n",
        "# Get the number of clusters\n",
        "n_clusters = len(set(labels))\n",
        "print(f'Number of clusters: {n_clusters}')"
      ],
      "metadata": {
        "colab": {
          "base_uri": "https://localhost:8080/"
        },
        "id": "oYKBqUn4mah-",
        "outputId": "9dfd750d-f524-410f-e6a2-3a205890aecc"
      },
      "execution_count": null,
      "outputs": [
        {
          "output_type": "stream",
          "name": "stdout",
          "text": [
            "Number of clusters: 4\n"
          ]
        }
      ]
    },
    {
      "cell_type": "code",
      "source": [
        "mexico = mexico.assign(cluster=labels)"
      ],
      "metadata": {
        "id": "MVOx2LZmndIF"
      },
      "execution_count": null,
      "outputs": []
    },
    {
      "cell_type": "code",
      "source": [
        "from sklearn.cluster import AgglomerativeClustering\n",
        "\n",
        "# Create an instance of the AgglomerativeClustering model\n",
        "agg_clustering = AgglomerativeClustering(n_clusters=4, linkage='ward')\n",
        "\n",
        "# Fit the model to the data\n",
        "agg_clustering.fit(samples_classification)\n",
        "\n",
        "# Get the predicted labels\n",
        "labels = agg_clustering.labels_\n",
        "\n",
        "# Get the number of clusters\n",
        "n_clusters = len(set(labels))\n",
        "print(f'Number of clusters: {n_clusters}')"
      ],
      "metadata": {
        "colab": {
          "base_uri": "https://localhost:8080/"
        },
        "id": "Ow92po8Q64Ci",
        "outputId": "756ba722-8411-4b63-e487-cb765eb3bd74"
      },
      "execution_count": null,
      "outputs": [
        {
          "output_type": "stream",
          "name": "stdout",
          "text": [
            "Number of clusters: 4\n"
          ]
        }
      ]
    },
    {
      "cell_type": "code",
      "source": [
        "samples = samples.assign(cluster=labels)"
      ],
      "metadata": {
        "id": "N6CyT-f37A8h"
      },
      "execution_count": null,
      "outputs": []
    },
    {
      "cell_type": "code",
      "source": [
        "from scipy.cluster.hierarchy import linkage, dendrogram\n",
        "\n",
        "# Compute linkage matrix\n",
        "Z = linkage(mexico_classification, method='ward')\n",
        "\n",
        "# Plot the dendrogram\n",
        "dendrogram(Z)\n",
        "plt.show()"
      ],
      "metadata": {
        "colab": {
          "base_uri": "https://localhost:8080/",
          "height": 268
        },
        "id": "la0YAyzcm5yD",
        "outputId": "ba3486e0-7103-4aca-eeac-08fc96f63d80"
      },
      "execution_count": null,
      "outputs": [
        {
          "output_type": "display_data",
          "data": {
            "text/plain": [
              "<Figure size 432x288 with 1 Axes>"
            ],
            "image/png": "[encoded data removed]"
          },
          "metadata": {
            "needs_background": "light"
          }
        }
      ]
    },
    {
      "cell_type": "code",
      "source": [
        "samples"
      ],
      "metadata": {
        "id": "8DKAGxgLnrmg"
      },
      "execution_count": null,
      "outputs": []
    },
    {
      "cell_type": "markdown",
      "source": [
        "# Cleaning the data \n"
      ],
      "metadata": {
        "id": "gMNyOa8E_KSc"
      }
    },
    {
      "cell_type": "code",
      "source": [
        "#from nltk.stem.snowball import SnowballStemmer\n",
        "mexico['OBJETO SOCIAL'] = mexico['OBJETO SOCIAL'].str.lower()\n",
        "mexico[\"OBJETO SOCIAL\"] = mexico['OBJETO SOCIAL'].apply(lambda x: re.sub(r'(?i)[IVXLCDM]+(\\.)\\s', '', x))\n",
        "mexico[\"OBJETO SOCIAL\"] = mexico['OBJETO SOCIAL'].apply(lambda x: re.sub(r'[a-z]+(\\))', '', x))\n",
        "mexico[\"OBJETO SOCIAL\"] = mexico['OBJETO SOCIAL'].str.replace(r\"<.*>\", '', regex=True)\n",
        "mexico[\"OBJETO SOCIAL\"] = mexico[\"OBJETO SOCIAL\"].str.replace(r\"\\d+\", \" \", regex=True)\n",
        "mexico[\"OBJETO SOCIAL\"] = mexico[\"OBJETO SOCIAL\"].str.replace(r\"\\n\", \" \", regex=True)\n",
        "mexico[\"OBJETO SOCIAL\"] = mexico[\"OBJETO SOCIAL\"].str.replace(r\"[,.?!;'´-]\", \" \", regex=True)\n",
        "mexico[\"OBJETO SOCIAL\"] = mexico[\"OBJETO SOCIAL\"].str.replace(r\"(&nbsp)\", \" \", regex=True)\n",
        "mexico['OBJETO SOCIAL'] = mexico['OBJETO SOCIAL'].str.replace(r'_*', '', regex=True)\n",
        "mexico[\"OBJETO SOCIAL\"] = mexico['OBJETO SOCIAL'].apply(lambda x: re.sub(r'\\s{4,}', ' ', x))"
      ],
      "metadata": {
        "id": "s3muts2o_kim"
      },
      "execution_count": null,
      "outputs": []
    },
    {
      "cell_type": "code",
      "source": [
        "samples['OBJETO SOCIAL'] = samples['OBJETO SOCIAL'].str.lower()\n",
        "samples[\"OBJETO SOCIAL\"] = samples['OBJETO SOCIAL'].apply(lambda x: re.sub(r'(?i)[IVXLCDM]+(\\.)\\s', '', x))\n",
        "samples[\"OBJETO SOCIAL\"] = samples['OBJETO SOCIAL'].apply(lambda x: re.sub(r'[a-z]+(\\))', '', x))\n",
        "samples[\"OBJETO SOCIAL\"] = samples['OBJETO SOCIAL'].str.replace(r\"<.*>\", '', regex=True)\n",
        "samples[\"OBJETO SOCIAL\"] = samples[\"OBJETO SOCIAL\"].str.replace(r\"\\d+\", \" \", regex=True)\n",
        "samples[\"OBJETO SOCIAL\"] = samples[\"OBJETO SOCIAL\"].str.replace(r\"\\n\", \" \", regex=True)\n",
        "samples[\"OBJETO SOCIAL\"] = samples[\"OBJETO SOCIAL\"].str.replace(r\"[,.?!;'´-]\", \" \", regex=True)\n",
        "samples[\"OBJETO SOCIAL\"] = samples[\"OBJETO SOCIAL\"].str.replace(r\"(&nbsp)\", \" \", regex=True)\n",
        "samples['OBJETO SOCIAL'] = samples['OBJETO SOCIAL'].str.replace(r'_*', '', regex=True)\n",
        "samples[\"OBJETO SOCIAL\"] = samples['OBJETO SOCIAL'].apply(lambda x: re.sub(r'\\s{4,}', ' ', x))"
      ],
      "metadata": {
        "id": "nAnblisgM0AH"
      },
      "execution_count": null,
      "outputs": []
    },
    {
      "cell_type": "code",
      "source": [
        "mexico[\"OBJETO SOCIAL\"][0]"
      ],
      "metadata": {
        "colab": {
          "base_uri": "https://localhost:8080/",
          "height": 191
        },
        "id": "2INvTluaxKU0",
        "outputId": "89f497bc-84c5-4e31-a60b-d3f76de34cdb"
      },
      "execution_count": null,
      "outputs": [
        {
          "output_type": "execute_result",
          "data": {
            "text/plain": [
              "'escritura pública no artículo cuatro  la asociación tendrá por objeto:  colaborar con los esfuerzos dirigidos al desarrollo integral de niñas  niños y jóvenes de méxico en situación vulnerable  con el fin de asegurar su bienestar y participación constructiva en la sociedaasí como toda clase de actividades tendientes a la ayuda desinteresada a comunidades e individuos  para lo cual podrá  de manera enunciativa y no limitativa realizar las siguientes actividades:  impulsar  colaborar y apoyar acciones tendientes a modificar y mejorar las circunstancias de carácter económico social de niñas  niños y jóvenes  a fin de lograr su desarrollo integral  así como fomentar la protección de niñas  niños y jóvenes en riesgo  desventaja física o mental  en función de su incorporación futura a la vida productiva  apoyar y promover el diseño y realización de proyectos de bienestar y asistencia social  así como de programas educativos informal y no formal  que ayuden al desarrollo material y espiritual de las niñas  niños y jóvenes en situación vulnerable  promover el bienestar y el desarrollo para elevar la calidad de vida de las niñas  niños y jóvenes en situación vulnerable  a través de la ayuda a instituciones  comunidades o personas que la requieran  ampliar el apoyo financiero  material y moral a las actividades en favor de las niñas  niños y jóvenes  relacionadas con los fines de la fundación propiciar el establecimiento  la organización  el desarrollo y el fortalecimiento de programas y acciones de atención directa a las niñas  niños y jóvenes en situación vulnerable en general  y en particular a las niñas  niños y jóvenes en situación de calle  fomentar programas de capacitación por cuenta propia y de terceros  para educadores y promotores que trabajan a favor de las niñas  niños y jóvenes en situación vulnerable  llevar a cabo por cuenta propia y de terceros  la realización de investigaciones y estudios de la problemática de las niñas  niños y jóvenes en situación vulnerable  y de otras formas de atención  que permitan ofrecer mejores alternativas de solución a sus problemas  impulsar e incrementar el desarrollo de las relaciones entre individuos y organizaciones  a través de información  congresos  foros y publicaciones relacionadas con las actividades en favor de las niñas  niños y jóvenes en situación vulnerable  desarrollar programas orientados al conocimiento  difusión e intercambio de experiencias y servicios entre las diversas instituciones nacionales e internacionales  publicar  editar  imprimir y promover obras  producto de los programas adecuados   a fin de elevar el nivel de vida de las niñas  niños y jóvenes en situación vulnerable  proponer y realizar actividades y programas que fomenten y faciliten los trabajos voluntarios de los miembros de la fundación y de los individuos en general  en favor de las niñas  niños y jóvenes en situación vulnerable  difundir campañas en los medios de comunicación que dignifiquen la situación de los menores y promuevan una cultura de respeto a los derechos de las niñas  niños y jóvenes  impulsar la realización de proyectos que ofrezcan alternativas de capacitación  ocupación laboral y desarrollo humano a las niñas  niños y jóvenes en situación vulnerable  fomentar la realización de programas educativos y difundir la información necesaria a organismos  corporaciones y a la población en general  sobre la problemática de los menores y que convoquen a la responsabilidad común de toda la sociedad  en la búsqueda de soluciones a sus problemas  apoyar  impulsar y colaborar en actos y eventos a favor de la infancia y juventud en situación vulnerable '"
            ],
            "application/vnd.google.colaboratory.intrinsic+json": {
              "type": "string"
            }
          },
          "metadata": {},
          "execution_count": 11
        }
      ]
    },
    {
      "cell_type": "markdown",
      "source": [
        "# Text catgorization"
      ],
      "metadata": {
        "id": "kgz1crIWIplA"
      }
    },
    {
      "cell_type": "code",
      "source": [
        "nlp = spacy.load('es_core_news_lg')"
      ],
      "metadata": {
        "id": "x428bZ_Iq9CU"
      },
      "execution_count": null,
      "outputs": []
    },
    {
      "cell_type": "code",
      "source": [
        "labels = {'Asistencia Social': ['organización asistencia solidaria objetivo brindar apoyo recursos personas enfrentan desafíos vida diaria',\n",
        "  'ofrecemos servicios asesoramiento orientación programas ayuda económica apoyo vivienda servicios salud bienestar',\n",
        "  'trabajamos comunidades identificar abordar necesidades urgentes promover independencia empoderamiento personas',\n",
        "  'creemos sociedad justa igualitaria esforzamos ayudar personas superar barreras enfrentan mejorar vidas',\n",
        "  'cláusula cuarta objeto asociación atención personas carencias socioeconómicas problemas invalidez discapacidad puedan satisfacer requerimientos básicos subsistencia desarrollo',\n",
        "  'organización grupos fines culturales actividad consista promoción bellas artes investigación científica tecnológica capacitación personas discapacitadas',\n",
        "  'cumplir objeto social intervenir campañas políticas actividades propaganda destinadas influir legislación',\n",
        "  'asociación profesional estudios información discapacitado',\n",
        "  'propugnar mejoramiento social económico discapacitados',\n",
        "  'escritura artículo asociación persigue fines lucro nacionalidad mexicana objeto otorgar servicios atención psicológica orientación educación asesoría legal difusión investigación prevención rehabilitación materia derechos humanos violencia intrafamiliar sexual maltrato menor mujer familia personas hayan víctimas tales delitos agresores personas señaladas responsables causantes tales ilícitos presenten conductas antisociales agresivas seno familiar pareja descendientes ascendientes',\n",
        "  'actividades académicas investigación docencia educación formal informal sociales culturales prevención información difusión sensibilización capacitación promover publicación edición libros revistas folletos carteles temas relativos condición hombres masculinidad sexualidad violencia desarrollo humano pareja familia',\n",
        "  'c crear filiales grupos sucursales núcleos reproduzcan propósitos tareas acciones objeto social crear centros información orientación servicio capacitación distintos lugares territorio nacional forma personal vía telefónica medios',\n",
        "  'investigar difundir asesorar coadyuvar atender psicológica médica legal asistencialmente capacitar defender representar observar evaluar supervisar organizar grupos eventos informativos académicos educativos crear centros orientación atención defensoría promover publicaciones producciones audiovisuales radiales televisivas carteles propagandas favor asistencia representación apoyo atención términos citados personas hayan acusadas responsables víctimas agresión sexual intrafamiliar maltrato hayan violado derechos garantías individuales derechos humanos civiles general problemática mujer menor',\n",
        "  'proponer autoridades correspondientes reformas legislativas políticas públicas educativas relativas velar proteger derechos personas víctimas violencia derecho positivo mexicano acuerdos internacionales programas reeducación victimarios',\n",
        "  'convenios propósitos citados organismos gubernamentales privados civiles particulares internacionales',\n",
        "  'interceder favor víctimas victimarios atención psicológica emocional médica creando grupos asistencia supervisión capacitación difusión favor derechos mujeres menores personas violentadas víctimas violencia intrafamiliar delitos sexuales transgresión derechos humanos ciudadanos establecer acciones diversas colaboración asistencia asesoría señalado',\n",
        "  'g investigar recopilar promover publicaciones trabajos relativos diversas disciplinas relacionen análisis situación mujer hombre revistas libros folletos material audiovisual conferencias cine televisión talleres actividades educativas enmarcándolas problemática nacional latinoamericana mundial',\n",
        "  'mantener relaciones instituciones nacionales extranjeras afines celebración convenios caácter interdisciplinariio intercambio documentos materiales trabajo investigación conjunta asistencia médica psicológica legal necesite ayuda víctimas victimarios actos celebrar convenios relacionen directamente fines sociales',\n",
        "  'escritura artículo asociación persigue fines lucro nacionalidad mexicana objeto otorgar servicios atención psicológica orientación educación asesoría legal difusión investigación prevención rehabilitación materia derechos humanos violencia intrafamiliar sexual maltrato menor mujer familia personas hayan víctimas tales delitos agresores personas señaladas responsables causantes tales ilícitos presenten conductas antisociales agresivas seno familiar pareja descendientes ascendientes',\n",
        "  'actividades académicas investigación docencia educación formal informal sociales culturales prevención información difusión sensibilización capacitación promover publicación edición libros revistas folletos carteles temas relativos condición hombres masculinidad sexualidad violencia desarrollo humano pareja familia',\n",
        "  'c crear filiales grupos sucursales núcleos reproduzcan propósitos tareas acciones objeto social crear centros información orientación servicio capacitación distintos lugares territorio nacional forma personal vía telefónica medios',\n",
        "  'investigar difundir asesorar coadyuvar atender psicológica médica legal asistencialmente capacitar defender representar observar evaluar supervisar organizar grupos eventos informativos académicos educativos crear centros orientación atención defensoría promover publicaciones producciones audiovisuales radiales televisivas carteles propagandas favor asistencia representación apoyo atención términos citados personas hayan acusadas responsables víctimas agresión sexual intrafamiliar maltrato hayan violado derechos garantías individuales derechos humanos civiles general problemática mujer menor',\n",
        "  'proponer autoridades correspondientes reformas legislativas políticas públicas educativas relativas velar proteger derechos personas víctimas violencia derecho positivo mexicano acuerdos internacionales programas reeducación victimarios',\n",
        "  'convenios propósitos citados organismos gubernamentales privados civiles particulares internacionales',\n",
        "  'interceder favor víctimas victimarios atención psicológica emocional médica creando grupos asistencia supervisión capacitación difusión favor derechos mujeres menores personas violentadas víctimas violencia intrafamiliar delitos sexuales transgresión derechos humanos ciudadanos establecer acciones diversas colaboración asistencia asesoría señalado',\n",
        "  'g investigar recopilar promover publicaciones trabajos relativos diversas disciplinas relacionen análisis situación mujer hombre revistas libros folletos material audiovisual conferencias cine televisión talleres actividades educativas enmarcándolas problemática nacional latinoamericana mundial',\n",
        "  'mantener relaciones instituciones nacionales extranjeras afines celebración convenios caácter interdisciplinariio intercambio documentos materiales trabajo investigación conjunta asistencia médica psicológica legal necesite ayuda víctimas victimarios actos celebrar convenios relacionen directamente fines sociales'],\n",
        " 'Educación': ['organización ayuda educativa objetivo proporcionar recursos apoyo personas enfrentan desafíos ámbito educativo',\n",
        "  'ofrecemos programas tutorías becas asesoramiento carreras ayudar estudiantes edades alcanzar máximo potencial académico',\n",
        "  'trabajamos escuelas comunidades mejorar acceso educación promover ambiente aprendizaje ayudar construir futuro educación',\n",
        "  'asociación objeto reunir representantes juveniles organizaciones sociedad civil facilitar diálogo intercambio ideas apoyo mutuo',\n",
        "  'impartir organizar cursos talleres instituciones académicas gubernamentales otorgar organizaciones juveniles capacitación requerida lograr objetivos',\n",
        "  'promover certificación organizaciones juveniles león',\n",
        "  'recaudar fondos proyectos federación organizaciones miembros',\n",
        "  'vínculo diálogo interacción sociedad civil academia organizaciones culturales intelectuales nacionales extranjeras sector privado gobierno medios comunicación',\n",
        "  'artículo objeto asociación objeto impartir cursos reconocimiento validez oficial impartir cursos básicos bienestar familiar personal promoción educación primaria secundaria preparatoria media superior grados niveles investigaciòn aplicaciòn diversos métodos enseñanza implantados país institución promocer bienestar mejoramiento social colaborar desarrollo mujer escasos recursos apoyo brinde personas condición social organización auxilio resolver problemas educación adquirir disponer operar activos bienes muebes inmuebles material equipo necesario realización objeto social formar parate asociaciones instituciones fundaciones general celebrar ejecutar actos contratos convenios anexos conexos aon objeto social',\n",
        "  'asociaciòn fines propósitos lucro',\n",
        "  'organización educación objetivo mejorar acceso calidad educación personas',\n",
        "  'ofrecemos programas tutorías becas asesoramiento carreras ayudar estudiantes edades alcanzar máximo potencial académico',\n",
        "  'trabajamos escuelas comunidades mejorar acceso educación promover ambiente aprendizaje positivo',\n",
        "  'brindamos capacitación apoyo maestros educadores mejorar práctica proporcionar educación calidad estudiantes',\n",
        "  'esforzamos eliminar barreras socioeconómicas culturales acceso educación promover inclusión diversidad aula',\n",
        "  'fomentamos enfoque aprendizaje basado vida real educación desarrollo sostenible',\n",
        "  'organización dedica investigación innovación campo educación identificar adoptar prácticas pedagógicas tecnológicas innovadoras mejoren aprendizaje enseñanza',\n",
        "  'trabajamos colaboración gobiernos organizaciones educativas organizaciones fines lucro mejorar sistema educativo nivel local nacional',\n",
        "  'creemos educación calidad esencial desarrollo personal social esforzamos ayudar personas alcanzar máximo potencial educativo',\n",
        "  'organización educación futuro objetivo mejorar acceso calidad educación personas',\n",
        "  'ofrecemos programas tutorías becas asesoramiento carreras ayudar estudiantes edades alcanzar máximo potencial académico',\n",
        "  'trabajamos escuelas comunidades mejorar acceso educación promover ambiente aprendizaje positivo',\n",
        "  'enfocamos formación maestros mejorar calidad educación escuelas comunidades',\n",
        "  'esforzamos abordar desigualdades educativas garantizar estudiantes tengan acceso educación calidad independientemente origen socioeconómico',\n",
        "  'trabajamos familias comunidades brindar apoyo recursos adicionales aprendizaje',\n",
        "  'esforzamos incorporar tecnología programas educativos mejorar eficacia eficiencia educación brindar estudiantes habilidades conocimientos necesarios éxito mundo digital',\n",
        "  'resumen organización comprometida mejorar acceso calidad educación personas trabajamos duro ayudar estudiantes alcanzar máximo potencial académico prepararlos futuro exitoso'],\n",
        " 'Arte y Cultura': ['organización arte cultura enfoca promover diversidad inclusión mundo arte cultura',\n",
        "  'ofrecemos talleres programas mentores oportunidades exposición artistas emergentes edades etnias habilidades',\n",
        "  'trabajamos instituciones culturales asegurar programación representación refleje diversidad comunidad',\n",
        "  'creemos arte cultura fundamentales sociedad saludable comprometidos hacerlos accesibles',\n",
        "  'intrumento notarial fecha abril articulo asociación común lícito lucrativo preponderantemente económico conservar incrementar acervo plástico biblioteca instituto artes gráficas oaxaca obra fotográfica centro alvarez comun principal quedan comprendidas enunciativa limitativamente siguientes actividades aplicar prioritaria recursos requerimientos conservacion mantenimiento necesarios instituto artes gráficas oaxaca obra fotográfica centro alvarez bravo bibliografico colaborar actividades culturales investigarcion cientifica lleven cabo principalmente relacionadas labor artistica fótografo manuel alvarez actividades promover adquisición obras artísticas cientificas culturales forma legal formen colección artística asociación adqusición equipo elementos necesarios eficaz cumplimiento promover desarrollo servicios colaboraciones publicaciones exposiciones itinerantes apoyo técnicoy actividades similares difusión beneficio instituto artes gráficas oaxaca obra fotográfica centro alvarez promover establecimiento relaciones instituciones similares pais extranjero publicas privadas fomento beneficio actividades promoverla evnta ediciones especiales folletos monografias catalogos láminas copias autorizadas obras arte actividades índole semejante tiendan producir ingresos asociación cumplir organizar promover conferencias espectaculos índole artística cientifica cultural tendientes difusión beneficio actividades difundir comunicación actividades experiencias investigaciones realizaciones asociación comprar vender enajenar adquirir gravar hipotecra obtener goce temporal tipo bienes muebles inmuebles derechos relaes necesarios convenientes realización efectuar actos jurídicos carácter especulativo permitidos leyes estatutos tiendan cumplir principal asociación',\n",
        "  'organización arte cultura objetivo promover participación acceso cultura arte personas',\n",
        "  'ofrecemos programas talleres exhibiciones eventos culturales ayudar personas descubrir apreciar artes cultura',\n",
        "  'trabajamos artistas creadores apoyar trabajo promover trabajo nivel nacional internacional',\n",
        "  'enfocamos preservación fortalecimiento cultura patrimonio comunidades',\n",
        "  'esforzamos abordar desigualdades culturales garantizar ciudadanos tengan acceso cultura artes independientemente origen socioeconómico',\n",
        "  'trabajamos comunidades brindar apoyo recursos adicionales participación actividades culturales',\n",
        "  'esforzamos promover diversidad inclusión actividades personas sientan bienvenidas representadas mundo arte cultura',\n",
        "  'resumen organización comprometida promover participación acceso cultura arte personas trabajamos duro apoyar artistas creadores preservar fortalecer cultura', ' La promoción, difusión, protección, conservación y fomento de las obras artísticas en todos sus géneros del maestro Jose Luis Cuevas Novelo, sin un carácter preponderante económico.', \n",
        "  'la organización, planeación, coordinación, desarrollo y administración del Museo Jose Luis Cuevas, su biblioteca, mobiliario y todas y cada una de las áreas que lo conforman.', \n",
        "  'La promoción, difusión y la coordinación de eventos para el fomento de las exposiciones permanentes y temporales de obras artísticas propias o de terceros que se realicen en el citado museo o e territorio nacional y en el extranjero', \n",
        "  'El fomento, la organización y la difusión de las Bellas Artes, en las ramas de las artes dramáticas y el teatro, por todos los medios posibles y orientada esta última hacia el público en general y en especial hacia las clases populares y la población escolar', \n",
        "  'Producción, traducción y exhibición de todo tipo de obras teatrales, procurando siempre el estudio y atención de los asuntos relativos a la integración, fomento y desarrollo de la industria teatral nacional e internacional.'],\n",
        " 'Medio Ambiente': ['organización conservación ambiental objetivo ayudar personas comprender proteger ambiente',\n",
        "  'ofrecemos programas educativos sensibilización fomentar conciencia ambiental proyectos conservación restauración ecosistemas',\n",
        "  'trabajamos colaboración organizaciones gobiernos promover políticas prácticas sostenibles creemos esencial proteger planeta generaciones presentes futuras esforzamos diferencia real conservación ambiente',\n",
        "  'capitulo articulo objeto',\n",
        "  'desarrollar centros capacitación brinden niñez juventud familia público general conocimientos habilidades conservación ambiente programa activo juegos talleres demostraciones otorgar promover apoyo financiero material moral organizaciones fines lucro dediquen conservación ambiente estén autorizadas emitir recibos deducibles impuestos',\n",
        "  'promover desarrollo relaciones individuos organizaciones interesadas conservación ambiente tipo información relevante desarrollo comunidad puebla establezcan centros ecológicos',\n",
        "  'incrementar interés sociedad gobiernos lograr comprensión apoyo actividades filantrópicas lleven cabo comunidad procurando incremente asignación aprovechamiento ambiente',\n",
        "  'recibir donativos efectivo especie bienes muebles inmuebles naturaleza asociados terceras personas propósito cumplir objeto',\n",
        "  'cabo terceros desarrollo estudios técnicas propicien actividades conservación preservación ambiente fortalecimiento educación despertar conciencia ecológica',\n",
        "  'publicar editar imprimir promover tipo obras ayuden conservación ambiente',\n",
        "  'obtener clase préstamos créditos garantía específica otorgar prestamos conveniente fines asociación',\n",
        "  'otorgar clase garantías avales obligaciones títulos crédito aceptarlos endosarlos incluyendo garantizados forma real ó preferente medida conveniente logro objetivos asociación',\n",
        "  'adquirir propiedad donación adjudicación permuta dación pago reporto cesión general permitido ley clase bienes muebles inmuebles derechos reales personales darlos tomar arrendamiento comodato destinarlos cumplimiento objeto social supervisar contratar terceros clase construcciones edificaciones',\n",
        "  'obtener adquirir utilizar disponer clase patentes marcas certificados inversión nombres comerciales derechos autor opciones preferencias derechos méxico extranjero',\n",
        "  'general celebrar actos contratos operaciones conexas accesorios accidentales necesarios convenientes realización objetos anteriores',\n",
        "  'actividades desarrolle asociación finalidad primordial cumplimiento objeto social puedan intervenir campañas políticas involucrarse actividades propaganda destinadas influir considerará influye legislación publicación análisis investigación carácter proselitista asistencia técnica órgano gubernamental hubiere solicitado escrito',\n",
        "  'organización ambiente objetivo proteger promover ambiente personas',\n",
        "  'ofrecemos programas sensibilización educación ambiental ayudar personas comprender apreciar ambiente',\n",
        "  'trabajamos organizaciones gobiernos promover políticas prácticas sostenibles realizamos proyectos conservación restauración ecosistemas',\n",
        "  'esforzamos abordar desigualdades ambientales garantizar personas tengan acceso ambiente saludable sostenible',\n",
        "  'trabajamos colaboración comunidades identificar abordar necesidades ambientales promover sostenible recursos naturales',\n",
        "  'esforzamos fomentar educación ambiental conciencia ambiental ayudar personas comprender impacto ambiente tomar medidas reducirlo'],\n",
        "  'Desarrollo económico y comunitario': ['organización desarrollo comunitario objetivo apoyar desarrollo económico social comunidades',\n",
        "  'ofrecemos programas capacitación asesoramiento negocios acceso financiamiento apoyo creación empleo creación riqueza',\n",
        "  'trabajamos líderes comunitarios organizaciones identificar abordar necesidades económicas sociales comunidades promover desarrollo sostenible',\n",
        "  'creemos economía fuerte esencial bienestar personas comunidades esforzamos ayudar personas mejorar vidas desarrollo económico comunitario',\n",
        "  'escritura número noventa dosartículo tercerol asociación propone medios mejoramiento calidad vida comunidades rurales urbanas coahuila condiciones marginación pobreza requieran solidaridad participación social coahuilenses superar rezagos materia educación alimentación salud vivienda cultura promover concentración voluntades suma esfuerzos asociados familias organizaciones gubernamentales clubes servicio sindicatos instituciones educación superior beneficencia personas físicas morales compartan propósito común apoyar sectores población coahuilense encuentren situación extrema clase actividades educativas cívicas deportivas sociales científicas técnicas culturales organizar conferencias seminarios cursos cursillos muestras exposiciones propósito preservar tradiciones difundir cultura elevar nivel educativo mejorar calidad vida coahuilenses',\n",
        "  'contribuir elevar nivel bienestar sectores sociales coahuilenses proveyendo medida posibilidades satisfactores medida educación salud alimentación recreación recibir tipo instituciones oficiales asociaciones públicas privadas mexicanas extranjeras donativos dinero especie destinarlos consecución objeto social expedir correspondientes recibos deducibles impuestos tipo eventos promociones campañas tendientes obtención recursos económicos destinarlos satisfacer necesidades sentidas comunidades urbanas rurales mayores clase actividades cívicas deportivas sociales científicas educativas técnicas beneficio sectores sociales coahuilenses fomentar relaciones familiares sociales deportivas culturales cursillos materia higiene alimentación planeación familiar superación personal beneficio comunidad actividades enumeradas persigan fines adquirir bienes muebles inmuebles necesarios cumplimiento objeto social realización clase actos contratos convenios necesarios asociación realice formular sugerencias recomendaciones órganos gobierno federal estatal municipal acciones planes programas trabajo canalizados comunidades mayores carencias',\n",
        "  'asociación representado capital acciones perseguir fines lucro',\n",
        "  'artículo objeto sociedad impulsar desarrollo municipios regiones méxico tipo servicios consultoría consolidación proyectos materia desarrollo económico social finanzas públicas planeación desarrollo',\n",
        "  'apoyo desarrollo pueblos comunidades indígenas',\n",
        "  'promoción fomento educativo cultural artístico científico tecnológico',\n",
        "  'fomento acciones mejorar economía popular',\n",
        "  'apoyos estímulos públicos reciban destinaos exclusivamente cumplimiento objeto social',\n",
        "  'capacitación servicios educativos desarrollo institucional fortalecimiento gobiernos locales organizaciones sociales desarrollo regional',\n",
        "  'c elaboración estudios operación proyectoos mercado justo desarrollo rural representen alternativas elevar nivel condiciones vida población municipios regioens pobres',\n",
        "  'otorgar licencias franquicias prestación servicios asesorías consultorías imparticion cursos capacitación general',\n",
        "  'g administrar prestar servicios personal organizaciones similares elaborando realizando clase asesorías investigaciones estudios trabajos propuestas proyectos acciones colaboren promoción concreción común',\n",
        "  'h contratación capacitación personal',\n",
        "  'k sociedad constituirse aval otorgar garantías favor terceros ocasional',\n",
        "  'l ejecución actos contratos convenios civiles mercantiles administrativos especie demanda realización fines mencionados',\n",
        "  'm gestionar proporcionar asistencia técnica apoyo científico financiero educativo capacitación adiestramiento grupos organizaciones sector rural realización proyectos económicos productivos educativos salud',\n",
        "  'recibir dinero título préstamo intereses pudiendo celebrar otorgar tipo contratos organizaciones nacionales crédito entidades financieras nacionales extranjeros personas físicas morales cumplimiento fines sociales',\n",
        "  'formar asociaciones sociedades civiles mercantiles q crear fortalecer incubadoras empresas r crear apoyar fortalecer centros desarrollo empresarial negocios t conformar bancos información oportunidades mercado registro fe oferta demanda productos procesos servicios desarrollar procesos exportación tipo comercio mercado interno v promover integración cadenas productivas esquemas asociación empresarial', 'Promover la participación organizada de los asociados y de la población en general, en acciones que mejoren sus propias condiciones de subsistencia, en  beneficio de la comunidad', \n",
        "  'La ejecución de acciones orientadas al beneficio social, la educación y la capacitación para el trabajo.', \n",
        "  'La asociación no persigue fines de lucro.'],\n",
        " 'Derechos Humanos': ['organización defensa derechos humanos objetivo proteger promover derechos humanos personas',\n",
        "  'ofrecemos asesoría legal programas capacitación sensibilización apoyo víctimas violaciones derechos humanos',\n",
        "  'trabajamos colaboración organizaciones gobiernos denunciar violaciones derechos humanos promover cambios políticas prácticas',\n",
        "  'creemos personas merecen vivir dignidad ambiente respeto derechos esforzamos diferencia real defensa promoción derechos humanos',\n",
        "  'escritura artículo comisión michoacana derechos humanos organismo guberanamental tendra objetivos intervenir siguientes casos',\n",
        "  'administrativas vicios procedimientos delitos lesionen persona grupo cometidos autoridad servidor público',\n",
        "  'administrativas vicios procedimientos delitos lesionen persona grupo sociedad general cometido agentes sociales cuya impunidad provenga anuencia tolerancia autoridad servidor público',\n",
        "  'casos ocurran incisos anteriores negligencia imputable autoridad servidor publico',\n",
        "  'organización defensa derechos humanos objetivo proteger promover derechos humanos personas',\n",
        "  'ofrecemos asesoría legal programas capacitación sensibilización apoyo víctimas violaciones derechos humanos',\n",
        "  'trabajamos colaboración organizaciones gobiernos denunciar violaciones derechos humanos promover cambios políticas prácticas',\n",
        "  'creemos personas merecen vivir dignidad ambiente respeto derechos esforzamos diferencia real defensa promoción derechos humanos',\n",
        "  'organización intervenimos casos violaciones administrativas vicios procedimientos delitos lesionen persona grupo cometidos autoridad servidor público casos violaciones cometidas agentes sociales cuya impunidad provenga anuencia tolerancia autoridad servidor público casos ocurran negligencia imputable autoridad servidor público',\n",
        "  'organización voz derechos humanos dedica promoción protección derechos humanos personas',\n",
        "  'ofrecemos servicios asesoramiento legal capacitación sensibilización apoyo víctimas violaciones derechos humanos',\n",
        "  'trabajamos estrecha colaboración organizaciones gobiernos denunciar violaciones derechos humanos presionar cambios políticas prácticas',\n",
        "  'creemos personas merecen vivir dignidad ambiente respeto derechos esforzamos diferencia real defensa promoción derechos humanos',\n",
        "  'organización especializa intervención casos violaciones derechos humanos ámbito laboral violencia género discriminación abuso autoridades',\n",
        "  'ofrecemos servicios atención víctimas asesoramiento legal campañas sensibilización promover cambio políticas prácticas áreas',\n",
        "  'organización justicia dedica defensa promoción derechos humanos mundo',\n",
        "  'trabajamos garantizar personas tengan acceso justicia tratadas dignidad respeto',\n",
        "  'ofrecemos servicios legales gratuitos programas capacitación sensibilización brindamos apoyo víctimas violaciones derechos humanos',\n",
        "  'colaboramos organizaciones gobiernos denunciar violaciones derechos humanos presionar cambios políticas prácticas',\n",
        "  'creemos personas merecen vivir mundo respeten derechos humanos esforzamos diferencia real defensa promoción derechos humanos',\n",
        "  'organización enfoca temas derecho educación libertad expresión discriminación derecho juicio justo',\n",
        "  'trabajamos comunidades marginadas desfavorecidas garantizar derechos respetados protegidos'],\n",
        " 'Salud': ['organización salud objetivo mejorar acceso calidad atención médica personas',\n",
        "  'ofrecemos programas prevención tratamiento atención pacientes capacitación asesoramiento profesionales salud',\n",
        "  'trabajamos colaboración hospitales clínicas organizaciones salud mejorar sistema salud abordar desigualdades atención médica',\n",
        "  'creemos personas merecen acceso servicios salud calidad esforzamos mejorar vidas personas promoción salud sostenible accesible',\n",
        "  'escritura número',\n",
        "  'objeto asociación atención médica clínica personas escasos recursos especialmente menores ancianos inválidos requieran apoyo atención psicológica psiquiátrica',\n",
        "  'proporcionar recibir clase servicios profesionales técnicos apoyo comunidad especial relacionados hipnosis psicoterapia medicina psicosomática desarrollo humano integral medicina holística alternativa tipo disciplinas puedan utilizadas lograr bienestar salud integral pacientes vean beneficiados',\n",
        "  'clase investigaciones objetos anteriores desarrollar métodos sistemas desarrollo capacitación profesionales instituciones interesadas bienestar salud integral personas f',\n",
        "  'proporcionar terapias grupos individuales familiares trabajos investigación aplicando técnicas señaladas objeto social beneficio profesionales materia apoyo comunidad mejoramiento bienestar salud integral',\n",
        "  'promover investigación química agrupar profesionales pedagogía psicología enfermería odontología trabajo social medicina terapeutas especialistas desarrollo humano medicina holística alternativa tipo disciplinas puedan utilizadas logra bienestar salud integral personas',\n",
        "  'desarrollar actividades científicas congresos simposiums mesas redondas convenciones platicas profesionales interesados materia tipo nacional internacional conjunta institutos profesionales áreas señaladas objeto social interesados bienestar salud integral personas',\n",
        "  'actividades mencionadas objetivo favorecer intercambio conocimientos experiencias profesionales instituciones encuentren interesadas técnicas mencionadas m',\n",
        "  'brindar asesoría instituciones públicas privadas sociales instituciones gubernamentales soliciten escrito programas promoción adecuado materias incisos anteriores reglamento',\n",
        "  'escritura artículo asociación constituye objeto persigan fines lucrativos',\n",
        "  'atención médica personas escasos recursos niños jóvenes adultos edad importar sexo raza religión padezcan cáncer huesos músculos puedan calidad vida reintegrarlos ámbito laboral social sucesivo denominará enfermos',\n",
        "  'proporcionar enfermos atención médica psicológica rehabilitación instituciones centros salud externos asociación',\n",
        "  'brindar instituciones centros salud ajenos asociación opciones tratamiento enfermos afectados tumores óseos partes blandas lesiones pseudotumorales',\n",
        "  'promover difundir campañas información opciones tratamiento enfermos familiares población general comunidad médica',\n",
        "  'capacitar enfermos integración sociedad trabajo educación deporte',\n",
        "  'participar creación organismos coadyuven bienestar enfermo',\n",
        "  'coadyuvar investigaciones relación patología puedan traducir beneficio enfermos',\n",
        "  'análisis estudios tendientes creación proyectos planes programas permitan eficaz idónea interacción enfermos sociedad',\n",
        "  'promover capacitación adiestramiento pro enfermos reincorporarlos sociedad ente productivo',\n",
        "  'solicitar cooperación instituciones salud país extranjero efecto implementar país innovaciones científicas tecnológicas pro enfermos',\n",
        "  'promover creación obras texto consulta enseñanza guía enfermo comunidad médica',\n",
        "  'promover apertura talleres dé ocupación enfermos contratos trabajo vigilando perciban salarios ley señala trabajadores',\n",
        "  'solicitar creación bolsa trabajo enfermos estén desempleados',\n",
        "  'establecer biblioteca permita enfermos acceso libros relacionados padecimientos',\n",
        "  'apoyar fomentar investigaciones científicas tecnológicas apoyo desarrollo enfermos patología',\n",
        "  'promover apoyo centros salud proporcione título gratuito médico especializado suministro medicamentos hospitalización enfermos',\n",
        "  'brindar ayuda psicológica emocional enfermos familiares',\n",
        "  'emprender campañas información médicos población general tratar evitar procedimientos cirugía radical enfermos realización diagnóstico oportuno tratamientos adecuados']}"
      ],
      "metadata": {
        "id": "ZzMg3bQAwJ6G"
      },
      "execution_count": null,
      "outputs": []
    },
    {
      "cell_type": "code",
      "source": [
        "# Clean Labels\n",
        "import nltk\n",
        "from nltk.corpus import stopwords\n",
        "from nltk.tokenize import word_tokenize\n",
        "nltk.download('punkt')\n",
        "stop_words = list(es_stop)\n",
        "\n",
        "cleaned_labels = {}\n",
        "for key, value in labels.items():\n",
        "    cleaned_values = []\n",
        "    for string in value:\n",
        "        words = word_tokenize(string.lower())\n",
        "        cleaned_words = [word for word in words if word.lower() not in stop_words and word.isalpha() and len(word)>1]\n",
        "        cleaned_values.append(\" \".join(cleaned_words))\n",
        "    cleaned_labels[key] = cleaned_values"
      ],
      "metadata": {
        "colab": {
          "base_uri": "https://localhost:8080/"
        },
        "id": "OEyb5bswhWnC",
        "outputId": "8b793b44-ed20-46c1-f41d-007b0132b79b"
      },
      "execution_count": null,
      "outputs": [
        {
          "output_type": "stream",
          "name": "stderr",
          "text": [
            "[nltk_data] Downloading package punkt to /root/nltk_data...\n",
            "[nltk_data]   Package punkt is already up-to-date!\n"
          ]
        }
      ]
    },
    {
      "cell_type": "code",
      "source": [
        "cleaned_labels"
      ],
      "metadata": {
        "id": "cQDyXMY0omkR"
      },
      "execution_count": null,
      "outputs": []
    },
    {
      "cell_type": "code",
      "source": [
        "nlp.add_pipe(\n",
        "    'text_categorizer', \n",
        "    config={'data':cleaned_labels,\n",
        "        'model':\"sentence-transformers/paraphrase-multilingual-MiniLM-L12-v2\",\n",
        "        'device':'gpu'\n",
        "    }\n",
        ")\n",
        "print(nlp(\"Artículo segundo.- Objeto La Asociación tendrá por objeto:Impartir cursos con reconocimiento de validez oficial; impartir cursos básicos de bienestar familiar y personal; la promoción de la Educación Primaria, Secundaria y preparatoria o Media Superior, en  todos sus grados y niveles, la investigaciòn y aplicaciòn de los diversos métodos de enseñanza, implantados en cualquier País o institución; promocer el bienestar y el mejoramiento social y colaborar con el desarrollo de la mujer de escasos recursos mediante el apoyo que se les brinde a estas personas que por su condición social, organización y auxilio para  resolver sus problemas de educación; adquirir, disponer y operar todos los activos, bienes muebes e inmuebles, así como el material y equipo necesario para la realización de su objeto social; formar parate de otras asociaciones, instituciones o fundaciones; en general celebrar y ejecutar todos los actos, contratos  y convenios que sean anexos y conexos aon su objeto social. Esta Asociaciòn no tendrá fines o propósitos de lucro\")._.cats)"
      ],
      "metadata": {
        "id": "_Yba-XJKtLZA"
      },
      "execution_count": null,
      "outputs": []
    },
    {
      "cell_type": "code",
      "source": [
        "# Stop words \n",
        "mexico['text_without_stopwords'] = mexico['OBJETO SOCIAL'].apply(lambda x: ' '.join([word for word in x.split() if word not in stop_words]))"
      ],
      "metadata": {
        "id": "UkNiBv-XCk72"
      },
      "execution_count": null,
      "outputs": []
    },
    {
      "cell_type": "code",
      "source": [
        "samples['text_without_stopwords'] = samples['OBJETO SOCIAL'].apply(lambda x: ' '.join([word for word in x.split() if word not in stop_words]))"
      ],
      "metadata": {
        "id": "lEnW52qTNADM"
      },
      "execution_count": null,
      "outputs": []
    },
    {
      "cell_type": "code",
      "source": [
        "mexico['categories'] = ''\n",
        "mexico['predicted_category'] = ''\n",
        "mexico['predicted_category_value'] = ''\n",
        "mexico['second_category'] = ''\n",
        "mexico['second_category_value'] = ''\n",
        "mexico['third_category'] = ''\n",
        "mexico['third_category_value'] = ''\n",
        "for index, row in mexico.iterrows():\n",
        "  doc = nlp(row['text_without_stopwords'])\n",
        "  categories = doc._.cats\n",
        "  max_key, max_value = max(doc._.cats.items(), key=lambda x:x[1])\n",
        "  sorted_data = sorted(doc._.cats.items(), key=lambda x:x[1], reverse=True)\n",
        "  mexico.at[index, 'categories'] = categories\n",
        "  mexico.at[index, 'predicted_category'] = max_key\n",
        "  mexico.at[index, 'predicted_category_value'] = max_value\n",
        "  mexico.at[index, 'second_category'] = sorted_data[1][0]\n",
        "  mexico.at[index, 'second_category_value'] = sorted_data[1][1]\n",
        "  mexico.at[index, 'third_category'] = sorted_data[2][0]\n",
        "  mexico.at[index, 'third_category_value'] = sorted_data[2][1]"
      ],
      "metadata": {
        "id": "sngG0l7Dv3s0"
      },
      "execution_count": null,
      "outputs": []
    },
    {
      "cell_type": "code",
      "source": [
        "samples['categories'] = ''\n",
        "samples['predicted_category'] = ''\n",
        "samples['predicted_category_value'] = ''\n",
        "samples['second_category'] = ''\n",
        "samples['second_category_value'] = ''\n",
        "samples['third_category'] = ''\n",
        "samples['third_category_value'] = ''\n",
        "for index, row in samples.iterrows():\n",
        "  doc = nlp(row['text_without_stopwords'])\n",
        "  categories = doc._.cats\n",
        "  max_key, max_value = max(doc._.cats.items(), key=lambda x:x[1])\n",
        "  sorted_data = sorted(doc._.cats.items(), key=lambda x:x[1], reverse=True)\n",
        "  samples.at[index, 'categories'] = categories\n",
        "  samples.at[index, 'predicted_category'] = max_key\n",
        "  samples.at[index, 'predicted_category_value'] = max_value\n",
        "  samples.at[index, 'second_category'] = sorted_data[1][0]\n",
        "  samples.at[index, 'second_category_value'] = sorted_data[1][1]\n",
        "  samples.at[index, 'third_category'] = sorted_data[2][0]\n",
        "  samples.at[index, 'third_category_value'] = sorted_data[2][1]"
      ],
      "metadata": {
        "id": "dGsQUD-DNEn4"
      },
      "execution_count": null,
      "outputs": []
    },
    {
      "cell_type": "code",
      "source": [
        "samples['Asistencia Social'] = 0\n",
        "samples['Educación'] = 0\n",
        "samples['Arte y Cultura'] = 0\n",
        "samples['Medio Ambiente'] = 0\n",
        "samples['Desarrollo económico y comunitario'] = 0\n",
        "samples['Derechos Humanos'] = 0\n",
        "samples['Salud'] = 0\n",
        "for index, row in samples.iterrows():\n",
        "  doc = nlp(row['text_without_stopwords'])\n",
        "  samples.at[index,'Asistencia Social'] = doc._.cats['Asistencia Social']\n",
        "  samples.at[index,'Educación'] = doc._.cats['Educación']\n",
        "  samples.at[index,'Arte y Cultura'] = doc._.cats['Arte y Cultura']\n",
        "  samples.at[index,'Medio Ambiente'] = doc._.cats['Medio Ambiente']\n",
        "  samples.at[index,'Desarrollo económico y comunitario'] = doc._.cats['Desarrollo económico y comunitario']\n",
        "  samples.at[index,'Derechos Humanos'] = doc._.cats['Derechos Humanos']\n",
        "  samples.at[index,'Salud'] = doc._.cats['Salud']"
      ],
      "metadata": {
        "id": "oJ5VuKotcK9P"
      },
      "execution_count": null,
      "outputs": []
    },
    {
      "cell_type": "code",
      "source": [
        "mexico['Asistencia Social'] = 0\n",
        "mexico['Educación'] = 0\n",
        "mexico['Arte y Cultura'] = 0\n",
        "mexico['Medio Ambiente'] = 0\n",
        "mexico['Desarrollo económico y comunitario'] = 0\n",
        "mexico['Derechos Humanos'] = 0\n",
        "mexico['Salud'] = 0\n",
        "for index, row in mexico.iterrows():\n",
        "  doc = nlp(row['text_without_stopwords'])\n",
        "  mexico.at[index,'Asistencia Social'] = doc._.cats['Asistencia Social']\n",
        "  mexico.at[index,'Educación'] = doc._.cats['Educación']\n",
        "  mexico.at[index,'Arte y Cultura'] = doc._.cats['Arte y Cultura']\n",
        "  mexico.at[index,'Medio Ambiente'] = doc._.cats['Medio Ambiente']\n",
        "  mexico.at[index,'Desarrollo económico y comunitario'] = doc._.cats['Desarrollo económico y comunitario']\n",
        "  mexico.at[index,'Derechos Humanos'] = doc._.cats['Derechos Humanos']\n",
        "  mexico.at[index,'Salud'] = doc._.cats['Salud']"
      ],
      "metadata": {
        "id": "A9zIDF2_usJM"
      },
      "execution_count": null,
      "outputs": []
    },
    {
      "cell_type": "markdown",
      "source": [
        "# Title categorization "
      ],
      "metadata": {
        "id": "b44Mu00C30mx"
      }
    },
    {
      "cell_type": "code",
      "source": [
        "label_title = {'Arte y Cultura title':['Arte', 'Cultural', 'Teatro', 'Música', 'Compañia', 'Arte', 'Maestro', 'Cultural'], \n",
        "               'Educación title':['Educación', 'Edu', 'Joven', 'Instituto', 'Educativo', 'Colegios', 'Niño' ],\n",
        "               'Medio Ambiente Title':['Medio ambiente', 'Animales', 'Ecología', 'Sustentable', 'Protección', 'Tierra', 'Naturaleza', 'Planeta', 'Sustentable'], \n",
        "               'Derechos Humanos title': ['Derechos humanos', 'Derechos humanos', 'Derechos humanos', 'Derechos humanos', 'Derechos humanos', 'Derechos humanos', 'Derechos humanos', 'Derechos humanos'], \n",
        "               'Religión title': ['Cristiano', 'San', 'Iglesia', 'Católico', 'Dios', 'Nuestra Señora', 'Virgen', 'Jesús', 'Santa', 'Misioneros'], \n",
        "               'Salud title': ['Salud', 'Ortopédico', 'Cáncer', 'Hospital'],\n",
        "               'Desarrollo económico y comunitario title': ['económico y comunitario', 'Trabajadores', 'Agrícolas', ], \n",
        "               'Other title': ['Grupo','Centro', 'Servicio', 'Asociación', 'Visión']}"
      ],
      "metadata": {
        "id": "PQX-KXNJ33Tw"
      },
      "execution_count": null,
      "outputs": []
    },
    {
      "cell_type": "code",
      "source": [
        "nlp_title = spacy.load('es_core_news_lg')\n",
        "nlp_title.add_pipe(\n",
        "    'text_categorizer', \n",
        "    config={'data':label_title,\n",
        "        'model':\"sentence-transformers/paraphrase-multilingual-MiniLM-L12-v2\",\n",
        "        'device':'gpu'\n",
        "    }\n",
        ")"
      ],
      "metadata": {
        "colab": {
          "base_uri": "https://localhost:8080/"
        },
        "id": "MVF02zAg5X5R",
        "outputId": "ff25f10f-9cfd-4cb1-efad-7a35e834834a"
      },
      "execution_count": null,
      "outputs": [
        {
          "output_type": "execute_result",
          "data": {
            "text/plain": [
              "<classy_classification.classifiers.classy_spacy.ClassySpacyExternalFewShot at 0x7f5a86a2f940>"
            ]
          },
          "metadata": {},
          "execution_count": 29
        }
      ]
    },
    {
      "cell_type": "code",
      "source": [
        "samples['Arte y Cultura title'] = 0\n",
        "samples['Medio Ambiente Title'] = 0\n",
        "samples['Religión title'] = 0\n",
        "samples['Derechos Humanos title'] = 0\n",
        "samples['Educación title'] = 0\n",
        "samples['Salud title'] = 0\n",
        "samples['Other title'] = 0\n",
        "for index, row in samples.iterrows():\n",
        "  doc = nlp_title(row['RAZON SOCIAL'])\n",
        "  samples.at[index,'Arte y Cultura title'] = doc._.cats['Arte y Cultura title']\n",
        "  samples.at[index,'Medio Ambiente Title'] = doc._.cats['Medio Ambiente Title']\n",
        "  samples.at[index,'Derechos Humanos title'] = doc._.cats['Derechos Humanos title']\n",
        "  samples.at[index,'Religión title'] = doc._.cats['Religión title']\n",
        "  samples.at[index,'Educación title'] = doc._.cats['Educación title']\n",
        "  samples.at[index,'Salud title'] = doc._.cats['Salud title']\n",
        "  samples.at[index,'Other title'] = doc._.cats['Other title']"
      ],
      "metadata": {
        "id": "nMb9sxrA-JEb"
      },
      "execution_count": null,
      "outputs": []
    },
    {
      "cell_type": "code",
      "source": [
        "mexico['Arte y Cultura title'] = 0\n",
        "mexico['Medio Ambiente Title'] = 0\n",
        "mexico['Religión title'] = 0\n",
        "mexico['Derechos Humanos title'] = 0\n",
        "mexico['Educación title'] = 0\n",
        "mexico['Salud title'] = 0\n",
        "mexico['Other title'] = 0\n",
        "for index, row in mexico.iterrows():\n",
        "  doc = nlp_title(row['RAZON SOCIAL'])\n",
        "  mexico.at[index,'Arte y Cultura title'] = doc._.cats['Arte y Cultura title']\n",
        "  mexico.at[index,'Medio Ambiente Title'] = doc._.cats['Medio Ambiente Title']\n",
        "  mexico.at[index,'Derechos Humanos title'] = doc._.cats['Derechos Humanos title']\n",
        "  mexico.at[index,'Religión title'] = doc._.cats['Religión title']\n",
        "  mexico.at[index,'Educación title'] = doc._.cats['Educación title']\n",
        "  mexico.at[index,'Salud title'] = doc._.cats['Salud title']\n",
        "  mexico.at[index,'Other title'] = doc._.cats['Other title']"
      ],
      "metadata": {
        "id": "5n5uSyF8xRC7"
      },
      "execution_count": null,
      "outputs": []
    },
    {
      "cell_type": "code",
      "source": [
        "samples"
      ],
      "metadata": {
        "id": "C84EMuoy-3Dk"
      },
      "execution_count": null,
      "outputs": []
    },
    {
      "cell_type": "markdown",
      "source": [
        "# Actividad "
      ],
      "metadata": {
        "id": "B0Mn1u2I5ZaI"
      }
    },
    {
      "cell_type": "code",
      "source": [
        "{'ACTIVIDAD 1': 'Asistencia Social', \n",
        " 'ACTIVIDAD 2': 'Desarrollo económico y comunitario', \n",
        " 'ACTIVIDAD 3': 'Derechos Humanos', \n",
        " 'ACTIVIDAD 5': 'Asistencia Social', \n",
        " 'ACTIVIDAD 7': 'Asistencia Social', \n",
        " 'ACTIVIDAD 8': 'Desarrollo económico y comunitario', \n",
        " 'ACTIVIDAD 9': 'Derechos Humanos', \n",
        " 'ACTIVIDAD 11': 'Salud', \n",
        " 'ACTIVIDAD 12': 'Medio Ambiente', \n",
        " 'ACTIVIDAD 13': 'Arte y Cultura', \n",
        " 'ACTIVIDAD 14': 'Desarrollo económico y comunitario',\n",
        " 'ACTIVIDAD 17': 'Desarrollo económico y comunitario', \n",
        " }\n",
        "samples['Asistencia Social ac'] = 0\n",
        "samples['Arte y Cultura ac'] = 0\n",
        "samples['Medio Ambiente ac'] = 0\n",
        "samples['Desarrollo económico y comunitario ac'] = 0\n",
        "samples['Derechos Humanos ac'] = 0\n",
        "samples['Salud ac'] = 0\n",
        "for index, row in samples.iterrows():\n",
        "  if row['ACTIVIDAD 1'] == 1:\n",
        "    samples.at[index, 'Asistencia Social ac'] += 1\n",
        "  if row['ACTIVIDAD 2'] == 1:\n",
        "    samples.at[index, 'Desarrollo económico y comunitario ac'] += 1\n",
        "  if row['ACTIVIDAD 3'] == 1:\n",
        "    samples.at[index, 'Derechos Humanos ac'] += 1\n",
        "  if row['ACTIVIDAD 5'] == 1:\n",
        "    samples.at[index, 'Asistencia Social ac'] += 1\n",
        "  if row['ACTIVIDAD 7'] == 1:\n",
        "    samples.at[index, 'Asistencia Social ac'] += 1\n",
        "  if row['ACTIVIDAD 8'] == 1:\n",
        "    samples.at[index, 'Desarrollo económico y comunitario ac'] += 1\n",
        "  if row['ACTIVIDAD 9'] == 1:\n",
        "    samples.at[index, 'Derechos Humanos ac'] += 1\n",
        "  if row['ACTIVIDAD 11'] == 1:\n",
        "    samples.at[index, 'Salud ac'] += 1\n",
        "  if row['ACTIVIDAD 12'] == 1:\n",
        "    samples.at[index, 'Medio Ambiente ac'] += 1\n",
        "  if row['ACTIVIDAD 13'] == 1:\n",
        "    samples.at[index, 'Arte y Cultura ac'] += 1\n",
        "  if row['ACTIVIDAD 14'] == 1:\n",
        "    samples.at[index, 'Desarrollo económico y comunitario ac'] += 1\n",
        "  if row['ACTIVIDAD 17'] == 1:\n",
        "    samples.at[index, 'Desarrollo económico y comunitario ac'] += 1"
      ],
      "metadata": {
        "id": "_1eToVrK5b9C"
      },
      "execution_count": null,
      "outputs": []
    },
    {
      "cell_type": "code",
      "source": [
        "mexico['Asistencia Social ac'] = 0\n",
        "mexico['Arte y Cultura ac'] = 0\n",
        "mexico['Medio Ambiente ac'] = 0\n",
        "mexico['Desarrollo económico y comunitario ac'] = 0\n",
        "mexico['Derechos Humanos ac'] = 0\n",
        "mexico['Salud ac'] = 0\n",
        "for index, row in mexico.iterrows():\n",
        "  if row['ACTIVIDAD 1'] == 1:\n",
        "    mexico.at[index, 'Asistencia Social ac'] += 1\n",
        "  if row['ACTIVIDAD 2'] == 1:\n",
        "    mexico.at[index, 'Desarrollo económico y comunitario ac'] += 1\n",
        "  if row['ACTIVIDAD 3'] == 1:\n",
        "    mexico.at[index, 'Derechos Humanos ac'] += 1\n",
        "  if row['ACTIVIDAD 5'] == 1:\n",
        "    mexico.at[index, 'Asistencia Social ac'] += 1\n",
        "  if row['ACTIVIDAD 7'] == 1:\n",
        "    mexico.at[index, 'Asistencia Social ac'] += 1\n",
        "  if row['ACTIVIDAD 8'] == 1:\n",
        "    mexico.at[index, 'Desarrollo económico y comunitario ac'] += 1\n",
        "  if row['ACTIVIDAD 9'] == 1:\n",
        "    mexico.at[index, 'Derechos Humanos ac'] += 1\n",
        "  if row['ACTIVIDAD 11'] == 1:\n",
        "    mexico.at[index, 'Salud ac'] += 1\n",
        "  if row['ACTIVIDAD 12'] == 1:\n",
        "    mexico.at[index, 'Medio Ambiente ac'] += 1\n",
        "  if row['ACTIVIDAD 13'] == 1:\n",
        "    mexico.at[index, 'Arte y Cultura ac'] += 1\n",
        "  if row['ACTIVIDAD 14'] == 1:\n",
        "    mexico.at[index, 'Desarrollo económico y comunitario ac'] += 1\n",
        "  if row['ACTIVIDAD 17'] == 1:\n",
        "    mexico.at[index, 'Desarrollo económico y comunitario ac'] += 1"
      ],
      "metadata": {
        "id": "q5tMUPSFbyNb"
      },
      "execution_count": null,
      "outputs": []
    },
    {
      "cell_type": "code",
      "source": [
        "samples"
      ],
      "metadata": {
        "id": "xrb4Ru5VNsiq"
      },
      "execution_count": null,
      "outputs": []
    },
    {
      "cell_type": "markdown",
      "source": [
        "# Random forest classifier"
      ],
      "metadata": {
        "id": "tcpcoTXcfdnW"
      }
    },
    {
      "cell_type": "code",
      "source": [
        "samples_without_actividad = samples.drop(samples.filter(regex='ACTIVIDAD.*').columns, axis=1)"
      ],
      "metadata": {
        "id": "nzNH65WxLU9p"
      },
      "execution_count": null,
      "outputs": []
    },
    {
      "cell_type": "code",
      "source": [
        "samples_without_actividad"
      ],
      "metadata": {
        "id": "PkyCkjeaLfcq"
      },
      "execution_count": null,
      "outputs": []
    },
    {
      "cell_type": "code",
      "source": [
        "from sklearn.ensemble import RandomForestClassifier\n",
        "from sklearn.model_selection import train_test_split"
      ],
      "metadata": {
        "id": "jZZ07Kz_hBE9"
      },
      "execution_count": null,
      "outputs": []
    },
    {
      "cell_type": "code",
      "source": [
        "y = samples_without_actividad['Correct '].values\n",
        "X = samples_without_actividad[samples_without_actividad.columns.difference(['Correct ', 'CLUNI', 'RAZON SOCIAL', 'OBJETO SOCIAL', 'text_without_stopwords'])].values"
      ],
      "metadata": {
        "id": "iEqoPWq3L7Iv"
      },
      "execution_count": null,
      "outputs": []
    },
    {
      "cell_type": "code",
      "source": [
        "X_names = samples_without_actividad[samples_without_actividad.columns.difference(['Correct ', 'CLUNI', 'RAZON SOCIAL', 'OBJETO SOCIAL', 'text_without_stopwords'])]"
      ],
      "metadata": {
        "id": "7v6FUBByQ97n"
      },
      "execution_count": null,
      "outputs": []
    },
    {
      "cell_type": "code",
      "source": [
        "X_names = mexico_without_actividad[mexico_without_actividad.columns.difference(['Correct ', 'CLUNI', 'RAZON SOCIAL', 'OBJETO SOCIAL', 'text_without_stopwords'])]"
      ],
      "metadata": {
        "id": "BvFiz9tn3vRo"
      },
      "execution_count": null,
      "outputs": []
    },
    {
      "cell_type": "code",
      "source": [
        "# One hot encoding \n",
        "from sklearn.preprocessing import OneHotEncoder\n",
        "\n",
        "# Create the encoder\n",
        "ohe = OneHotEncoder()\n",
        "\n",
        "# Fit the encoder on the 'y' labels\n",
        "ohe.fit(y.reshape(-1, 1))\n",
        "\n",
        "# Transform 'y' labels to one-hot-encoded values\n",
        "y = ohe.transform(y.reshape(-1, 1))\n",
        "y = y.toarray()"
      ],
      "metadata": {
        "id": "F7pXSGUosgyI"
      },
      "execution_count": null,
      "outputs": []
    },
    {
      "cell_type": "code",
      "source": [
        "y"
      ],
      "metadata": {
        "id": "_hXYsAV6liOj"
      },
      "execution_count": null,
      "outputs": []
    },
    {
      "cell_type": "code",
      "source": [
        "X_train, X_test, y_train, y_test = train_test_split(X, y, test_size=0.2)\n",
        "clf = RandomForestClassifier(n_estimators=150, random_state=50)\n",
        "clf.fit(X_train, y_train)\n",
        "clf.score(X_test, y_test)"
      ],
      "metadata": {
        "id": "85Dq4J8Yh4lf",
        "colab": {
          "base_uri": "https://localhost:8080/"
        },
        "outputId": "d4d8735e-45b5-4b52-9999-c03cc4c78a59"
      },
      "execution_count": null,
      "outputs": [
        {
          "output_type": "execute_result",
          "data": {
            "text/plain": [
              "0.813953488372093"
            ]
          },
          "metadata": {},
          "execution_count": 108
        }
      ]
    },
    {
      "cell_type": "code",
      "source": [
        "clf = RandomForestClassifier(n_estimators=150, random_state=50)"
      ],
      "metadata": {
        "id": "dAGiQdHOh7BT"
      },
      "execution_count": null,
      "outputs": []
    },
    {
      "cell_type": "code",
      "source": [
        "clf.fit(X_train, y_train)"
      ],
      "metadata": {
        "colab": {
          "base_uri": "https://localhost:8080/"
        },
        "id": "A7pLYdK0h9e7",
        "outputId": "53301084-3558-4544-bf37-36590bdf39aa"
      },
      "execution_count": null,
      "outputs": [
        {
          "output_type": "execute_result",
          "data": {
            "text/plain": [
              "RandomForestClassifier(n_estimators=150, random_state=50)"
            ]
          },
          "metadata": {},
          "execution_count": 298
        }
      ]
    },
    {
      "cell_type": "code",
      "source": [
        "importances = clf.feature_importances_"
      ],
      "metadata": {
        "id": "t0mZTy9OYrao"
      },
      "execution_count": null,
      "outputs": []
    },
    {
      "cell_type": "code",
      "source": [
        "importances"
      ],
      "metadata": {
        "colab": {
          "base_uri": "https://localhost:8080/"
        },
        "id": "vwrNfGiTYxmi",
        "outputId": "9999a34e-9ce4-4547-844d-43ad07542d74"
      },
      "execution_count": null,
      "outputs": [
        {
          "output_type": "execute_result",
          "data": {
            "text/plain": [
              "array([0.04604128, 0.00497765, 0.06368649, 0.07402099, 0.01355981,\n",
              "       0.0814048 , 0.01857421, 0.18191361, 0.05956464, 0.01097313,\n",
              "       0.05763782, 0.0489968 , 0.06693831, 0.00498237, 0.14563984,\n",
              "       0.10817682, 0.01291143])"
            ]
          },
          "metadata": {},
          "execution_count": 36
        }
      ]
    },
    {
      "cell_type": "code",
      "source": [
        "# Plot the feature importances\n",
        "plt.bar(range(X_names.shape[1]), importances)\n",
        "plt.xlabel(\"Features\")\n",
        "plt.ylabel(\"Feature Importance\")\n",
        "\n",
        "# Add feature names as x-tick labels\n",
        "plt.xticks(range(X_names.shape[1]), range(X_names.shape[1]), rotation=90)\n",
        "\n",
        "plt.show()"
      ],
      "metadata": {
        "colab": {
          "base_uri": "https://localhost:8080/",
          "height": 282
        },
        "id": "eP3FfSuNY8y4",
        "outputId": "70a9e2c6-b4e9-4dfb-8ead-4864e43598a9"
      },
      "execution_count": null,
      "outputs": [
        {
          "output_type": "display_data",
          "data": {
            "text/plain": [
              "<Figure size 432x288 with 1 Axes>"
            ],
            "image/png": "[encoded data removed]"
          },
          "metadata": {
            "needs_background": "light"
          }
        }
      ]
    },
    {
      "cell_type": "code",
      "source": [
        "from sklearn.metrics import accuracy_score, confusion_matrix, classification_report\n",
        "y_pred_test = clf.predict(X_test)\n",
        "print(classification_report(y_test, y_pred_test))"
      ],
      "metadata": {
        "colab": {
          "base_uri": "https://localhost:8080/"
        },
        "id": "KayjHrk6haAp",
        "outputId": "d2203b51-7490-40da-9af4-51c5c7fb8d8f"
      },
      "execution_count": null,
      "outputs": [
        {
          "output_type": "stream",
          "name": "stdout",
          "text": [
            "                                    precision    recall  f1-score   support\n",
            "\n",
            "                    Arte y Cultura       1.00      1.00      1.00         3\n",
            "                 Asistencia Social       0.71      0.71      0.71         7\n",
            "                  Derechos Humanos       1.00      0.91      0.95        11\n",
            "Desarrollo económico y comunitario       0.71      1.00      0.83         5\n",
            "                         Educación       1.00      0.67      0.80         3\n",
            "                    Medio Ambiente       1.00      0.60      0.75         5\n",
            "                          Religion       0.57      0.67      0.62         6\n",
            "                             Salud       0.75      1.00      0.86         3\n",
            "\n",
            "                          accuracy                           0.81        43\n",
            "                         macro avg       0.84      0.82      0.82        43\n",
            "                      weighted avg       0.84      0.81      0.82        43\n",
            "\n"
          ]
        }
      ]
    },
    {
      "cell_type": "markdown",
      "source": [
        "# XGBOOST"
      ],
      "metadata": {
        "id": "dzr2fahyS80B"
      }
    },
    {
      "cell_type": "code",
      "source": [
        "y = samples_without_actividad['Correct '].values\n",
        "X = samples_without_actividad[samples_without_actividad.columns.difference(['Correct ', 'CLUNI', 'RAZON SOCIAL', 'OBJETO SOCIAL', 'text_without_stopwords'])].values"
      ],
      "metadata": {
        "id": "2NpVVQjLS8LP"
      },
      "execution_count": null,
      "outputs": []
    },
    {
      "cell_type": "code",
      "source": [
        "from xgboost import XGBClassifier\n",
        "\n",
        "X_train, X_test, y_train, y_test = train_test_split(X, y, test_size=0.2)\n",
        "\n",
        "# Initialize the multi-class classifier\n",
        "clf = XGBClassifier(objective='multi:softprob', num_class=8)\n",
        "\n",
        "# Fit the model to the training data\n",
        "clf.fit(X_train, y_train)\n",
        "\n",
        "# Make predictions\n",
        "predictions = clf.predict(X_test)\n",
        "clf.score(X_test, y_test)"
      ],
      "metadata": {
        "colab": {
          "base_uri": "https://localhost:8080/"
        },
        "id": "8u1MLsaMXz31",
        "outputId": "1fce52c9-494f-44b1-8413-763207fee06d"
      },
      "execution_count": null,
      "outputs": [
        {
          "output_type": "execute_result",
          "data": {
            "text/plain": [
              "0.9302325581395349"
            ]
          },
          "metadata": {},
          "execution_count": 135
        }
      ]
    },
    {
      "cell_type": "code",
      "source": [
        "predictions"
      ],
      "metadata": {
        "colab": {
          "base_uri": "https://localhost:8080/"
        },
        "id": "BhWVwmO5WjbV",
        "outputId": "3b222afa-aeba-45d0-94d2-620929d28d8c"
      },
      "execution_count": null,
      "outputs": [
        {
          "output_type": "execute_result",
          "data": {
            "text/plain": [
              "array(['Salud', 'Derechos Humanos', 'Religion', 'Asistencia Social',\n",
              "       'Desarrollo económico y comunitario', 'Derechos Humanos',\n",
              "       'Educación', 'Medio Ambiente',\n",
              "       'Desarrollo económico y comunitario', 'Derechos Humanos',\n",
              "       'Desarrollo económico y comunitario',\n",
              "       'Desarrollo económico y comunitario', 'Medio Ambiente', 'Religion',\n",
              "       'Medio Ambiente', 'Desarrollo económico y comunitario',\n",
              "       'Derechos Humanos', 'Medio Ambiente', 'Derechos Humanos',\n",
              "       'Derechos Humanos', 'Salud', 'Religion', 'Religion',\n",
              "       'Derechos Humanos', 'Salud', 'Religion', 'Derechos Humanos',\n",
              "       'Derechos Humanos', 'Derechos Humanos', 'Medio Ambiente',\n",
              "       'Derechos Humanos', 'Religion', 'Derechos Humanos'], dtype=object)"
            ]
          },
          "metadata": {},
          "execution_count": 73
        }
      ]
    },
    {
      "cell_type": "code",
      "source": [
        "y_pred_test = clf.predict(X_test)\n",
        "print(classification_report(y_test, y_pred_test))"
      ],
      "metadata": {
        "colab": {
          "base_uri": "https://localhost:8080/"
        },
        "id": "KAPwdCFThgQo",
        "outputId": "7a5b9561-84fe-4506-930d-69cb5406a180"
      },
      "execution_count": null,
      "outputs": [
        {
          "output_type": "stream",
          "name": "stdout",
          "text": [
            "                                    precision    recall  f1-score   support\n",
            "\n",
            "                    Arte y Cultura       1.00      1.00      1.00         1\n",
            "                 Asistencia Social       0.70      1.00      0.82         7\n",
            "                  Derechos Humanos       1.00      1.00      1.00        11\n",
            "Desarrollo económico y comunitario       1.00      1.00      1.00         6\n",
            "                         Educación       1.00      1.00      1.00         2\n",
            "                    Medio Ambiente       1.00      1.00      1.00         6\n",
            "                          Religion       1.00      0.67      0.80         6\n",
            "                             Salud       1.00      0.75      0.86         4\n",
            "\n",
            "                          accuracy                           0.93        43\n",
            "                         macro avg       0.96      0.93      0.94        43\n",
            "                      weighted avg       0.95      0.93      0.93        43\n",
            "\n"
          ]
        }
      ]
    },
    {
      "cell_type": "markdown",
      "source": [
        "## Evaluating the model "
      ],
      "metadata": {
        "id": "RNI8qjzDkWsD"
      }
    },
    {
      "cell_type": "code",
      "source": [
        "from sklearn.metrics import accuracy_score, confusion_matrix, classification_report"
      ],
      "metadata": {
        "id": "3EnSmzoPkVdw"
      },
      "execution_count": null,
      "outputs": []
    },
    {
      "cell_type": "code",
      "source": [
        "clf.score(X_train, y_train)"
      ],
      "metadata": {
        "colab": {
          "base_uri": "https://localhost:8080/"
        },
        "id": "29sU6YYUiHdD",
        "outputId": "a4377c5f-e0a4-4461-dd16-2206f3ce7f8d"
      },
      "execution_count": null,
      "outputs": [
        {
          "output_type": "execute_result",
          "data": {
            "text/plain": [
              "0.9933774834437086"
            ]
          },
          "metadata": {},
          "execution_count": 60
        }
      ]
    },
    {
      "cell_type": "code",
      "source": [
        "y_pred_test = clf.predict(X_test)"
      ],
      "metadata": {
        "id": "M_hTAe1Xk61_"
      },
      "execution_count": null,
      "outputs": []
    },
    {
      "cell_type": "code",
      "source": [
        "accuracy_score(y_test, y_pred_test)"
      ],
      "metadata": {
        "colab": {
          "base_uri": "https://localhost:8080/"
        },
        "id": "4yX7LtVwkyxl",
        "outputId": "ce2dc7ed-f6f3-4e26-db0a-8132881c51b1"
      },
      "execution_count": null,
      "outputs": [
        {
          "output_type": "execute_result",
          "data": {
            "text/plain": [
              "0.75"
            ]
          },
          "metadata": {},
          "execution_count": 295
        }
      ]
    },
    {
      "cell_type": "code",
      "source": [
        "confusion_matrix(y_test, y_pred_test)"
      ],
      "metadata": {
        "colab": {
          "base_uri": "https://localhost:8080/"
        },
        "id": "BS6u4yeplH9l",
        "outputId": "daae1cd0-6fa2-43e8-e3c7-2a0c73cb1431"
      },
      "execution_count": null,
      "outputs": [
        {
          "output_type": "execute_result",
          "data": {
            "text/plain": [
              "array([[0, 1, 0, 1, 1, 0],\n",
              "       [0, 4, 0, 2, 0, 0],\n",
              "       [0, 0, 1, 0, 0, 0],\n",
              "       [0, 1, 0, 2, 0, 0],\n",
              "       [0, 1, 0, 0, 1, 0],\n",
              "       [0, 0, 0, 0, 0, 1]])"
            ]
          },
          "metadata": {},
          "execution_count": 283
        }
      ]
    },
    {
      "cell_type": "code",
      "source": [
        "original_labels_test"
      ],
      "metadata": {
        "id": "fJGpFZSZnH1o"
      },
      "execution_count": null,
      "outputs": []
    },
    {
      "cell_type": "code",
      "source": [
        "from sklearn.metrics import accuracy_score, confusion_matrix, classification_report\n",
        "y_pred_test = clf.predict(X_test)\n",
        "print(classification_report(y_test, y_pred_test))\n"
      ],
      "metadata": {
        "colab": {
          "base_uri": "https://localhost:8080/"
        },
        "id": "1rdv2hXpoQRd",
        "outputId": "4c1410ae-9315-4b32-f862-41cff6321ff9"
      },
      "execution_count": null,
      "outputs": [
        {
          "output_type": "stream",
          "name": "stdout",
          "text": [
            "                                    precision    recall  f1-score   support\n",
            "\n",
            "                    Arte y Cultura       1.00      0.67      0.80         3\n",
            "                 Asistencia Social       0.71      0.71      0.71         7\n",
            "                  Derechos Humanos       1.00      0.89      0.94         9\n",
            "Desarrollo económico y comunitario       0.67      0.80      0.73         5\n",
            "                         Educación       1.00      0.50      0.67         2\n",
            "                    Medio Ambiente       1.00      1.00      1.00         2\n",
            "                          Religion       0.71      1.00      0.83         5\n",
            "                             Salud       1.00      1.00      1.00         5\n",
            "\n",
            "                          accuracy                           0.84        38\n",
            "                         macro avg       0.89      0.82      0.84        38\n",
            "                      weighted avg       0.87      0.84      0.84        38\n",
            "\n"
          ]
        }
      ]
    },
    {
      "cell_type": "code",
      "source": [
        "print(classification_report(original_labels, original_labels_test))\n"
      ],
      "metadata": {
        "colab": {
          "base_uri": "https://localhost:8080/",
          "height": 166
        },
        "id": "-0mW8UQOkEeM",
        "outputId": "7b323810-a8d3-42fc-8d1b-e1ba8bf7622e"
      },
      "execution_count": null,
      "outputs": [
        {
          "output_type": "error",
          "ename": "NameError",
          "evalue": "ignored",
          "traceback": [
            "\u001b[0;31m---------------------------------------------------------------------------\u001b[0m",
            "\u001b[0;31mNameError\u001b[0m                                 Traceback (most recent call last)",
            "\u001b[0;32m<ipython-input-93-709d7e5504d6>\u001b[0m in \u001b[0;36m<module>\u001b[0;34m\u001b[0m\n\u001b[0;32m----> 1\u001b[0;31m \u001b[0mprint\u001b[0m\u001b[0;34m(\u001b[0m\u001b[0mclassification_report\u001b[0m\u001b[0;34m(\u001b[0m\u001b[0moriginal_labels\u001b[0m\u001b[0;34m,\u001b[0m \u001b[0moriginal_labels_test\u001b[0m\u001b[0;34m)\u001b[0m\u001b[0;34m)\u001b[0m\u001b[0;34m\u001b[0m\u001b[0;34m\u001b[0m\u001b[0m\n\u001b[0m",
            "\u001b[0;31mNameError\u001b[0m: name 'classification_report' is not defined"
          ]
        }
      ]
    },
    {
      "cell_type": "code",
      "source": [
        "import matplotlib.pyplot as plt\n",
        "from sklearn.tree import plot_tree\n",
        "\n",
        "fig = plt.figure(figsize=(15, 10))\n",
        "plot_tree(clf.estimators_[0], \n",
        "          filled=True, impurity=True, \n",
        "          rounded=True)"
      ],
      "metadata": {
        "id": "dDzFCf34i3Su"
      },
      "execution_count": null,
      "outputs": []
    },
    {
      "cell_type": "markdown",
      "source": [
        "## Using the model on the main data "
      ],
      "metadata": {
        "id": "BggHxr5IujMD"
      }
    },
    {
      "cell_type": "code",
      "source": [
        "mexico_without_actividad = mexico.drop(mexico.filter(regex='ACTIVIDAD.*').columns, axis=1)"
      ],
      "metadata": {
        "id": "eFg50xRI202X"
      },
      "execution_count": null,
      "outputs": []
    },
    {
      "cell_type": "code",
      "source": [
        "mexico_without_actividad"
      ],
      "metadata": {
        "id": "Gi6j_6hGwpyv"
      },
      "execution_count": null,
      "outputs": []
    },
    {
      "cell_type": "code",
      "source": [
        "X_mexico = mexico_without_actividad[mexico_without_actividad.columns.difference(['Correct ', 'CLUNI', 'RAZON SOCIAL', 'OBJETO SOCIAL', 'text_without_stopwords' ])].values"
      ],
      "metadata": {
        "id": "gF2X2FtykxDh"
      },
      "execution_count": null,
      "outputs": []
    },
    {
      "cell_type": "code",
      "source": [
        "X_mexico = mexico_without_actividad[mexico_without_actividad.columns.difference(['Correct ', 'CLUNI', 'RAZON SOCIAL', 'OBJETO SOCIAL', 'text_without_stopwords', 'Apoyo a otras Donatarias'])].values"
      ],
      "metadata": {
        "id": "Da1pFpLU38PW"
      },
      "execution_count": null,
      "outputs": []
    },
    {
      "cell_type": "code",
      "source": [
        "X_names"
      ],
      "metadata": {
        "id": "rv7O7AV8391X"
      },
      "execution_count": null,
      "outputs": []
    },
    {
      "cell_type": "code",
      "source": [
        "predictions = clf.predict(X_mexico)\n",
        "#real_names = le.inverse_transform(predictions)"
      ],
      "metadata": {
        "id": "efqpP1n-3CsI"
      },
      "execution_count": null,
      "outputs": []
    },
    {
      "cell_type": "code",
      "source": [
        "predictions"
      ],
      "metadata": {
        "colab": {
          "base_uri": "https://localhost:8080/"
        },
        "id": "RIxS4ID7zbkI",
        "outputId": "18890e32-11cd-44fc-b4d2-fa1e726ace7d"
      },
      "execution_count": null,
      "outputs": [
        {
          "output_type": "execute_result",
          "data": {
            "text/plain": [
              "array(['Educación', 'Asistencia Social', 'Asistencia Social', ...,\n",
              "       'Asistencia Social', 'Desarrollo económico y comunitario',\n",
              "       'Asistencia Social'], dtype=object)"
            ]
          },
          "metadata": {},
          "execution_count": 146
        }
      ]
    },
    {
      "cell_type": "code",
      "source": [
        "predicted_labels = pd.Series(predictions)\n"
      ],
      "metadata": {
        "id": "-5DbbzjQ0GEy"
      },
      "execution_count": null,
      "outputs": []
    },
    {
      "cell_type": "code",
      "source": [
        "predicted_labels\n",
        "real_names = le.inverse_transform(predicted_labels)"
      ],
      "metadata": {
        "id": "5yjKRvdY0IBC"
      },
      "execution_count": null,
      "outputs": []
    },
    {
      "cell_type": "code",
      "source": [
        "real_names"
      ],
      "metadata": {
        "colab": {
          "base_uri": "https://localhost:8080/"
        },
        "id": "PnKmmHis0UYs",
        "outputId": "5da239c2-e593-4dfc-a9d2-3408379c4e03"
      },
      "execution_count": null,
      "outputs": [
        {
          "output_type": "execute_result",
          "data": {
            "text/plain": [
              "array(['Asistencia Social', 'Educación', 'Asistencia Social', ...,\n",
              "       'Apoyo a otras Donatarias', 'Desarrollo económico y comunitario',\n",
              "       'Arte y Cultura'], dtype=object)"
            ]
          },
          "metadata": {},
          "execution_count": 399
        }
      ]
    },
    {
      "cell_type": "code",
      "source": [
        "mexico = mexico.assign(Final=predicted_labels)"
      ],
      "metadata": {
        "id": "IXf06PYW3FvZ"
      },
      "execution_count": null,
      "outputs": []
    },
    {
      "cell_type": "code",
      "source": [
        "mexico"
      ],
      "metadata": {
        "colab": {
          "base_uri": "https://localhost:8080/",
          "height": 921
        },
        "id": "4UYVbvWR3kwf",
        "outputId": "99f96f40-e987-4a4a-b4ad-2b04a96f182c"
      },
      "execution_count": null,
      "outputs": [
        {
          "output_type": "execute_result",
          "data": {
            "text/plain": [
              "               CLUNI                                RAZON SOCIAL  ACTIVIDAD 1  \\\n",
              "0     NNS01012922016                  Niños y Niñas de la Sierra            0   \n",
              "1     BAC99031115011    Banco de Alimentos de Cuautitlán Izcalli            0   \n",
              "2     COC9412120901C                                      COCOMI            1   \n",
              "3     NAM0405240901F                        Nuestro Amigo México            0   \n",
              "4     BIA9212300501B            Banco Internacional de Alimentos            1   \n",
              "...              ...                                         ...          ...   \n",
              "7344  CAF180621115SQ  Casa de Asistencia Femenil Un Acto de Dios            1   \n",
              "7345  LAU19073009OX2      Lazos de Ayuda para un Bienestar Común            1   \n",
              "7346  CFP19021915676                             Celta Fenix PVM            1   \n",
              "7347  FKA030120095TN                             Fundación Kaluz            1   \n",
              "7348  VTR190429099OJ                       Vacaciones de Trabajo            0   \n",
              "\n",
              "      ACTIVIDAD 2  ACTIVIDAD 3  ACTIVIDAD 4  ACTIVIDAD 5  ACTIVIDAD 6  \\\n",
              "0               0            0            0            1            0   \n",
              "1               1            0            0            0            0   \n",
              "2               0            1            0            0            1   \n",
              "3               0            0            0            1            0   \n",
              "4               1            0            0            0            0   \n",
              "...           ...          ...          ...          ...          ...   \n",
              "7344            1            0            0            0            0   \n",
              "7345            0            0            0            1            0   \n",
              "7346            0            0            0            1            0   \n",
              "7347            0            1            0            0            0   \n",
              "7348            0            0            0            0            0   \n",
              "\n",
              "      ACTIVIDAD 7  ACTIVIDAD 8  ...  Educación title  Salud title  \\\n",
              "0               0            1  ...         0.303168     0.171344   \n",
              "1               0            0  ...         0.163671     0.178414   \n",
              "2               0            0  ...         0.175625     0.364375   \n",
              "3               0            0  ...         0.168418     0.104371   \n",
              "4               0            0  ...         0.219060     0.138652   \n",
              "...           ...          ...  ...              ...          ...   \n",
              "7344            0            0  ...         0.072564     0.110724   \n",
              "7345            0            0  ...         0.186710     0.159086   \n",
              "7346            1            1  ...         0.204181     0.171276   \n",
              "7347            0            1  ...         0.190556     0.080549   \n",
              "7348            0            0  ...         0.351876     0.170944   \n",
              "\n",
              "      Other title  Asistencia Social ac  Arte y Cultura ac  Medio Ambiente ac  \\\n",
              "0        0.149044                     1                  1                  0   \n",
              "1        0.172105                     0                  0                  0   \n",
              "2        0.153939                     1                  1                  1   \n",
              "3        0.122855                     1                  1                  1   \n",
              "4        0.234715                     1                  0                  0   \n",
              "...           ...                   ...                ...                ...   \n",
              "7344     0.065014                     1                  0                  0   \n",
              "7345     0.276938                     2                  0                  0   \n",
              "7346     0.250548                     3                  0                  0   \n",
              "7347     0.258841                     1                  1                  1   \n",
              "7348     0.151086                     0                  1                  0   \n",
              "\n",
              "      Desarrollo económico y comunitario ac  Derechos Humanos ac  Salud ac  \\\n",
              "0                                         1                    0         0   \n",
              "1                                         1                    0         0   \n",
              "2                                         0                    2         1   \n",
              "3                                         0                    0         1   \n",
              "4                                         1                    0         0   \n",
              "...                                     ...                  ...       ...   \n",
              "7344                                      1                    0         1   \n",
              "7345                                      1                    1         0   \n",
              "7346                                      2                    0         0   \n",
              "7347                                      1                    1         0   \n",
              "7348                                      0                    0         0   \n",
              "\n",
              "                                   Final  \n",
              "0                              Educación  \n",
              "1                      Asistencia Social  \n",
              "2                      Asistencia Social  \n",
              "3                      Asistencia Social  \n",
              "4                      Asistencia Social  \n",
              "...                                  ...  \n",
              "7344                            Religion  \n",
              "7345                   Asistencia Social  \n",
              "7346                   Asistencia Social  \n",
              "7347  Desarrollo económico y comunitario  \n",
              "7348                      Arte y Cultura  \n",
              "\n",
              "[7349 rows x 44 columns]"
            ],
            "text/html": [
              "\n",
              "  <div id=\"df-b3b7ff52-3706-4a71-8b19-22f26349a3a5\">\n",
              "    <div class=\"colab-df-container\">\n",
              "      <div>\n",
              "<style scoped>\n",
              "    .dataframe tbody tr th:only-of-type {\n",
              "        vertical-align: middle;\n",
              "    }\n",
              "\n",
              "    .dataframe tbody tr th {\n",
              "        vertical-align: top;\n",
              "    }\n",
              "\n",
              "    .dataframe thead th {\n",
              "        text-align: right;\n",
              "    }\n",
              "</style>\n",
              "<table border=\"1\" class=\"dataframe\">\n",
              "  <thead>\n",
              "    <tr style=\"text-align: right;\">\n",
              "      <th></th>\n",
              "      <th>CLUNI</th>\n",
              "      <th>RAZON SOCIAL</th>\n",
              "      <th>ACTIVIDAD 1</th>\n",
              "      <th>ACTIVIDAD 2</th>\n",
              "      <th>ACTIVIDAD 3</th>\n",
              "      <th>ACTIVIDAD 4</th>\n",
              "      <th>ACTIVIDAD 5</th>\n",
              "      <th>ACTIVIDAD 6</th>\n",
              "      <th>ACTIVIDAD 7</th>\n",
              "      <th>ACTIVIDAD 8</th>\n",
              "      <th>...</th>\n",
              "      <th>Educación title</th>\n",
              "      <th>Salud title</th>\n",
              "      <th>Other title</th>\n",
              "      <th>Asistencia Social ac</th>\n",
              "      <th>Arte y Cultura ac</th>\n",
              "      <th>Medio Ambiente ac</th>\n",
              "      <th>Desarrollo económico y comunitario ac</th>\n",
              "      <th>Derechos Humanos ac</th>\n",
              "      <th>Salud ac</th>\n",
              "      <th>Final</th>\n",
              "    </tr>\n",
              "  </thead>\n",
              "  <tbody>\n",
              "    <tr>\n",
              "      <th>0</th>\n",
              "      <td>NNS01012922016</td>\n",
              "      <td>Niños y Niñas de la Sierra</td>\n",
              "      <td>0</td>\n",
              "      <td>0</td>\n",
              "      <td>0</td>\n",
              "      <td>0</td>\n",
              "      <td>1</td>\n",
              "      <td>0</td>\n",
              "      <td>0</td>\n",
              "      <td>1</td>\n",
              "      <td>...</td>\n",
              "      <td>0.303168</td>\n",
              "      <td>0.171344</td>\n",
              "      <td>0.149044</td>\n",
              "      <td>1</td>\n",
              "      <td>1</td>\n",
              "      <td>0</td>\n",
              "      <td>1</td>\n",
              "      <td>0</td>\n",
              "      <td>0</td>\n",
              "      <td>Educación</td>\n",
              "    </tr>\n",
              "    <tr>\n",
              "      <th>1</th>\n",
              "      <td>BAC99031115011</td>\n",
              "      <td>Banco de Alimentos de Cuautitlán Izcalli</td>\n",
              "      <td>0</td>\n",
              "      <td>1</td>\n",
              "      <td>0</td>\n",
              "      <td>0</td>\n",
              "      <td>0</td>\n",
              "      <td>0</td>\n",
              "      <td>0</td>\n",
              "      <td>0</td>\n",
              "      <td>...</td>\n",
              "      <td>0.163671</td>\n",
              "      <td>0.178414</td>\n",
              "      <td>0.172105</td>\n",
              "      <td>0</td>\n",
              "      <td>0</td>\n",
              "      <td>0</td>\n",
              "      <td>1</td>\n",
              "      <td>0</td>\n",
              "      <td>0</td>\n",
              "      <td>Asistencia Social</td>\n",
              "    </tr>\n",
              "    <tr>\n",
              "      <th>2</th>\n",
              "      <td>COC9412120901C</td>\n",
              "      <td>COCOMI</td>\n",
              "      <td>1</td>\n",
              "      <td>0</td>\n",
              "      <td>1</td>\n",
              "      <td>0</td>\n",
              "      <td>0</td>\n",
              "      <td>1</td>\n",
              "      <td>0</td>\n",
              "      <td>0</td>\n",
              "      <td>...</td>\n",
              "      <td>0.175625</td>\n",
              "      <td>0.364375</td>\n",
              "      <td>0.153939</td>\n",
              "      <td>1</td>\n",
              "      <td>1</td>\n",
              "      <td>1</td>\n",
              "      <td>0</td>\n",
              "      <td>2</td>\n",
              "      <td>1</td>\n",
              "      <td>Asistencia Social</td>\n",
              "    </tr>\n",
              "    <tr>\n",
              "      <th>3</th>\n",
              "      <td>NAM0405240901F</td>\n",
              "      <td>Nuestro Amigo México</td>\n",
              "      <td>0</td>\n",
              "      <td>0</td>\n",
              "      <td>0</td>\n",
              "      <td>0</td>\n",
              "      <td>1</td>\n",
              "      <td>0</td>\n",
              "      <td>0</td>\n",
              "      <td>0</td>\n",
              "      <td>...</td>\n",
              "      <td>0.168418</td>\n",
              "      <td>0.104371</td>\n",
              "      <td>0.122855</td>\n",
              "      <td>1</td>\n",
              "      <td>1</td>\n",
              "      <td>1</td>\n",
              "      <td>0</td>\n",
              "      <td>0</td>\n",
              "      <td>1</td>\n",
              "      <td>Asistencia Social</td>\n",
              "    </tr>\n",
              "    <tr>\n",
              "      <th>4</th>\n",
              "      <td>BIA9212300501B</td>\n",
              "      <td>Banco Internacional de Alimentos</td>\n",
              "      <td>1</td>\n",
              "      <td>1</td>\n",
              "      <td>0</td>\n",
              "      <td>0</td>\n",
              "      <td>0</td>\n",
              "      <td>0</td>\n",
              "      <td>0</td>\n",
              "      <td>0</td>\n",
              "      <td>...</td>\n",
              "      <td>0.219060</td>\n",
              "      <td>0.138652</td>\n",
              "      <td>0.234715</td>\n",
              "      <td>1</td>\n",
              "      <td>0</td>\n",
              "      <td>0</td>\n",
              "      <td>1</td>\n",
              "      <td>0</td>\n",
              "      <td>0</td>\n",
              "      <td>Asistencia Social</td>\n",
              "    </tr>\n",
              "    <tr>\n",
              "      <th>...</th>\n",
              "      <td>...</td>\n",
              "      <td>...</td>\n",
              "      <td>...</td>\n",
              "      <td>...</td>\n",
              "      <td>...</td>\n",
              "      <td>...</td>\n",
              "      <td>...</td>\n",
              "      <td>...</td>\n",
              "      <td>...</td>\n",
              "      <td>...</td>\n",
              "      <td>...</td>\n",
              "      <td>...</td>\n",
              "      <td>...</td>\n",
              "      <td>...</td>\n",
              "      <td>...</td>\n",
              "      <td>...</td>\n",
              "      <td>...</td>\n",
              "      <td>...</td>\n",
              "      <td>...</td>\n",
              "      <td>...</td>\n",
              "      <td>...</td>\n",
              "    </tr>\n",
              "    <tr>\n",
              "      <th>7344</th>\n",
              "      <td>CAF180621115SQ</td>\n",
              "      <td>Casa de Asistencia Femenil Un Acto de Dios</td>\n",
              "      <td>1</td>\n",
              "      <td>1</td>\n",
              "      <td>0</td>\n",
              "      <td>0</td>\n",
              "      <td>0</td>\n",
              "      <td>0</td>\n",
              "      <td>0</td>\n",
              "      <td>0</td>\n",
              "      <td>...</td>\n",
              "      <td>0.072564</td>\n",
              "      <td>0.110724</td>\n",
              "      <td>0.065014</td>\n",
              "      <td>1</td>\n",
              "      <td>0</td>\n",
              "      <td>0</td>\n",
              "      <td>1</td>\n",
              "      <td>0</td>\n",
              "      <td>1</td>\n",
              "      <td>Religion</td>\n",
              "    </tr>\n",
              "    <tr>\n",
              "      <th>7345</th>\n",
              "      <td>LAU19073009OX2</td>\n",
              "      <td>Lazos de Ayuda para un Bienestar Común</td>\n",
              "      <td>1</td>\n",
              "      <td>0</td>\n",
              "      <td>0</td>\n",
              "      <td>0</td>\n",
              "      <td>1</td>\n",
              "      <td>0</td>\n",
              "      <td>0</td>\n",
              "      <td>0</td>\n",
              "      <td>...</td>\n",
              "      <td>0.186710</td>\n",
              "      <td>0.159086</td>\n",
              "      <td>0.276938</td>\n",
              "      <td>2</td>\n",
              "      <td>0</td>\n",
              "      <td>0</td>\n",
              "      <td>1</td>\n",
              "      <td>1</td>\n",
              "      <td>0</td>\n",
              "      <td>Asistencia Social</td>\n",
              "    </tr>\n",
              "    <tr>\n",
              "      <th>7346</th>\n",
              "      <td>CFP19021915676</td>\n",
              "      <td>Celta Fenix PVM</td>\n",
              "      <td>1</td>\n",
              "      <td>0</td>\n",
              "      <td>0</td>\n",
              "      <td>0</td>\n",
              "      <td>1</td>\n",
              "      <td>0</td>\n",
              "      <td>1</td>\n",
              "      <td>1</td>\n",
              "      <td>...</td>\n",
              "      <td>0.204181</td>\n",
              "      <td>0.171276</td>\n",
              "      <td>0.250548</td>\n",
              "      <td>3</td>\n",
              "      <td>0</td>\n",
              "      <td>0</td>\n",
              "      <td>2</td>\n",
              "      <td>0</td>\n",
              "      <td>0</td>\n",
              "      <td>Asistencia Social</td>\n",
              "    </tr>\n",
              "    <tr>\n",
              "      <th>7347</th>\n",
              "      <td>FKA030120095TN</td>\n",
              "      <td>Fundación Kaluz</td>\n",
              "      <td>1</td>\n",
              "      <td>0</td>\n",
              "      <td>1</td>\n",
              "      <td>0</td>\n",
              "      <td>0</td>\n",
              "      <td>0</td>\n",
              "      <td>0</td>\n",
              "      <td>1</td>\n",
              "      <td>...</td>\n",
              "      <td>0.190556</td>\n",
              "      <td>0.080549</td>\n",
              "      <td>0.258841</td>\n",
              "      <td>1</td>\n",
              "      <td>1</td>\n",
              "      <td>1</td>\n",
              "      <td>1</td>\n",
              "      <td>1</td>\n",
              "      <td>0</td>\n",
              "      <td>Desarrollo económico y comunitario</td>\n",
              "    </tr>\n",
              "    <tr>\n",
              "      <th>7348</th>\n",
              "      <td>VTR190429099OJ</td>\n",
              "      <td>Vacaciones de Trabajo</td>\n",
              "      <td>0</td>\n",
              "      <td>0</td>\n",
              "      <td>0</td>\n",
              "      <td>0</td>\n",
              "      <td>0</td>\n",
              "      <td>0</td>\n",
              "      <td>0</td>\n",
              "      <td>0</td>\n",
              "      <td>...</td>\n",
              "      <td>0.351876</td>\n",
              "      <td>0.170944</td>\n",
              "      <td>0.151086</td>\n",
              "      <td>0</td>\n",
              "      <td>1</td>\n",
              "      <td>0</td>\n",
              "      <td>0</td>\n",
              "      <td>0</td>\n",
              "      <td>0</td>\n",
              "      <td>Arte y Cultura</td>\n",
              "    </tr>\n",
              "  </tbody>\n",
              "</table>\n",
              "<p>7349 rows × 44 columns</p>\n",
              "</div>\n",
              "      <button class=\"colab-df-convert\" onclick=\"convertToInteractive('df-b3b7ff52-3706-4a71-8b19-22f26349a3a5')\"\n",
              "              title=\"Convert this dataframe to an interactive table.\"\n",
              "              style=\"display:none;\">\n",
              "        \n",
              "  <svg xmlns=\"http://www.w3.org/2000/svg\" height=\"24px\"viewBox=\"0 0 24 24\"\n",
              "       width=\"24px\">\n",
              "    <path d=\"M0 0h24v24H0V0z\" fill=\"none\"/>\n",
              "    <path d=\"M18.56 5.44l.94 2.06.94-2.06 2.06-.94-2.06-.94-.94-2.06-.94 2.06-2.06.94zm-11 1L8.5 8.5l.94-2.06 2.06-.94-2.06-.94L8.5 2.5l-.94 2.06-2.06.94zm10 10l.94 2.06.94-2.06 2.06-.94-2.06-.94-.94-2.06-.94 2.06-2.06.94z\"/><path d=\"M17.41 7.96l-1.37-1.37c-.4-.4-.92-.59-1.43-.59-.52 0-1.04.2-1.43.59L10.3 9.45l-7.72 7.72c-.78.78-.78 2.05 0 2.83L4 21.41c.39.39.9.59 1.41.59.51 0 1.02-.2 1.41-.59l7.78-7.78 2.81-2.81c.8-.78.8-2.07 0-2.86zM5.41 20L4 18.59l7.72-7.72 1.47 1.35L5.41 20z\"/>\n",
              "  </svg>\n",
              "      </button>\n",
              "      \n",
              "  <style>\n",
              "    .colab-df-container {\n",
              "      display:flex;\n",
              "      flex-wrap:wrap;\n",
              "      gap: 12px;\n",
              "    }\n",
              "\n",
              "    .colab-df-convert {\n",
              "      background-color: #E8F0FE;\n",
              "      border: none;\n",
              "      border-radius: 50%;\n",
              "      cursor: pointer;\n",
              "      display: none;\n",
              "      fill: #1967D2;\n",
              "      height: 32px;\n",
              "      padding: 0 0 0 0;\n",
              "      width: 32px;\n",
              "    }\n",
              "\n",
              "    .colab-df-convert:hover {\n",
              "      background-color: #E2EBFA;\n",
              "      box-shadow: 0px 1px 2px rgba(60, 64, 67, 0.3), 0px 1px 3px 1px rgba(60, 64, 67, 0.15);\n",
              "      fill: #174EA6;\n",
              "    }\n",
              "\n",
              "    [theme=dark] .colab-df-convert {\n",
              "      background-color: #3B4455;\n",
              "      fill: #D2E3FC;\n",
              "    }\n",
              "\n",
              "    [theme=dark] .colab-df-convert:hover {\n",
              "      background-color: #434B5C;\n",
              "      box-shadow: 0px 1px 3px 1px rgba(0, 0, 0, 0.15);\n",
              "      filter: drop-shadow(0px 1px 2px rgba(0, 0, 0, 0.3));\n",
              "      fill: #FFFFFF;\n",
              "    }\n",
              "  </style>\n",
              "\n",
              "      <script>\n",
              "        const buttonEl =\n",
              "          document.querySelector('#df-b3b7ff52-3706-4a71-8b19-22f26349a3a5 button.colab-df-convert');\n",
              "        buttonEl.style.display =\n",
              "          google.colab.kernel.accessAllowed ? 'block' : 'none';\n",
              "\n",
              "        async function convertToInteractive(key) {\n",
              "          const element = document.querySelector('#df-b3b7ff52-3706-4a71-8b19-22f26349a3a5');\n",
              "          const dataTable =\n",
              "            await google.colab.kernel.invokeFunction('convertToInteractive',\n",
              "                                                     [key], {});\n",
              "          if (!dataTable) return;\n",
              "\n",
              "          const docLinkHtml = 'Like what you see? Visit the ' +\n",
              "            '<a target=\"_blank\" href=https://colab.research.google.com/notebooks/data_table.ipynb>data table notebook</a>'\n",
              "            + ' to learn more about interactive tables.';\n",
              "          element.innerHTML = '';\n",
              "          dataTable['output_type'] = 'display_data';\n",
              "          await google.colab.output.renderOutput(dataTable, element);\n",
              "          const docLink = document.createElement('div');\n",
              "          docLink.innerHTML = docLinkHtml;\n",
              "          element.appendChild(docLink);\n",
              "        }\n",
              "      </script>\n",
              "    </div>\n",
              "  </div>\n",
              "  "
            ]
          },
          "metadata": {},
          "execution_count": 143
        }
      ]
    },
    {
      "cell_type": "markdown",
      "source": [
        "# Output the data"
      ],
      "metadata": {
        "id": "ueL0_c52h_Yb"
      }
    },
    {
      "cell_type": "code",
      "source": [
        "mexico"
      ],
      "metadata": {
        "id": "vvAMoItAlTo7"
      },
      "execution_count": null,
      "outputs": []
    },
    {
      "cell_type": "code",
      "source": [
        "mexico.to_csv('final V4.csv', encoding='utf-8')"
      ],
      "metadata": {
        "id": "N9oOkLMvlgd-"
      },
      "execution_count": null,
      "outputs": []
    },
    {
      "cell_type": "code",
      "source": [
        "pip install pandas==1.3.0"
      ],
      "metadata": {
        "id": "eIdOQ5xvmR_c"
      },
      "execution_count": null,
      "outputs": []
    }
  ]
}